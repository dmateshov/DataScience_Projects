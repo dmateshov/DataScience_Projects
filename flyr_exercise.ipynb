{
  "nbformat": 4,
  "nbformat_minor": 0,
  "metadata": {
    "colab": {
      "name": "flyr_exercise.ipynb",
      "provenance": [],
      "collapsed_sections": [],
      "mount_file_id": "1n947s6N10nsuK2s2TC_7txk5KI-QGst2",
      "authorship_tag": "ABX9TyPnLJ/N9Mi5NmGNJ4T203is"
    },
    "kernelspec": {
      "name": "python3",
      "display_name": "Python 3"
    },
    "language_info": {
      "name": "python"
    },
    "accelerator": "TPU",
    "gpuClass": "standard"
  },
  "cells": [
    {
      "cell_type": "markdown",
      "source": [
        "# Task:\n",
        "The goal of this task is to evaluate your data preparation, analysis and modeling skills. You receive on-time airline performance data and the question we would like you to answer is:\n",
        "- What departure delay is expected for any scheduled flight in the test set?\n",
        "- What is the performance of the model's prediction on the test set?\n",
        "\n",
        "## Things to note:\n",
        "- The data consists of 14 months, where 12 months (07.2018 - 06.2019) are for training/validation and 2 months (07.2019 - 08.2019) for testing purposes.\n",
        "- `DepDelay` (in minutes) is your target variable.\n",
        "- From an operational perspective, flight is classified as delayed, when it is late 15 minutes or more.\n",
        "- Scheduled departure time of the flight is the last available moment for doing prediction.\n",
        "- Feel free to use any publicly available information/dataset for feature engineering.\n",
        "- Don’t forget about exploratory data analysis (at least 2 questions & answers).\n",
        "\n",
        "## Tips:\n",
        "- The goal is to test how you structure your thoughts and code, not whether or not you can achieve a specific performance metric.\n",
        "- The assignment is meant to be highly open-ended but not needlessly laborious. Make judicious assumptions/decisions in your approach but document your rationale and what might be different in a less time-constrained scenario.\n",
        "- If any directions are unclear, please make an assumption, note that assumption in your response, and continue on the basis of that assumption.\n",
        "- There is no need for intense hyperparameter tuning (if training takes too long). \n",
        "\n",
        "We will evaluate your work as a whole, so a creative and thoughtful approach to the data and modeling is more important than getting a small improvement in your evaluation metric.  \n",
        "Our preferred format is Jupyter notebook (with printed results & your notes), but if you use other tools, then any form including source code + explanation would be accepted.\n",
        "\n",
        "### TODO:\n",
        "- add note about no discussion after, be clear in notebook\n",
        "\n",
        "### Import packages\n"
      ],
      "metadata": {
        "id": "t8xAxptNchCz"
      }
    },
    {
      "cell_type": "code",
      "execution_count": 48,
      "metadata": {
        "id": "YEg_EWoPbqFy"
      },
      "outputs": [],
      "source": [
        "import pandas as pd\n",
        "import numpy as np\n",
        "import matplotlib.pyplot as plt\n",
        "import seaborn as sns"
      ]
    },
    {
      "cell_type": "markdown",
      "source": [
        "## My approach plan:\n",
        "- New column as target - `Delay` [True or False]\n",
        "- Create a model to predict `Delay`, as well as models for each type of delays (weather, nas, etc. delays) and so if any of them classifies as True, predict delay==True\n",
        "- Very imbalanced data (assumed much more intimes than delays), so when train / test split make sure to use stratify, as well as stratify by date (different times of month should be covered).\n",
        "- **Departure date** should be broken into: `weekday`, `date` (first half and second half of month rates of delays might differ), `month`\n",
        "- Can be created additional feature like `red eye flight`, etc depending on **departure time**\n",
        "- Can import weather information for dates to according departure and arrival airports, should help to predict some weather delays\n",
        "\n",
        "\n",
        "## EDA plans:\n",
        "- Most popular reason for delays\n",
        "- Each airport: delays by -weekday; -month; -date; -type of delay\n",
        "- Airlines by % of delays, flights by % of delays, Origin airport by % of delays\n",
        "- Airports can be grouped by states/zones\n",
        "\n"
      ],
      "metadata": {
        "id": "B5nbr5s-g0uW"
      }
    },
    {
      "cell_type": "code",
      "source": [
        "dataset_dir = \"../content/drive/MyDrive/flyr_dataset\"\n",
        "\n",
        "df = pd.read_csv(f'{dataset_dir}/07_2018.csv')\n",
        "df.head()"
      ],
      "metadata": {
        "colab": {
          "base_uri": "https://localhost:8080/",
          "height": 404
        },
        "id": "a5MxymQuceSU",
        "outputId": "8823ab9a-862e-45e8-c332-c198ae196c00"
      },
      "execution_count": 49,
      "outputs": [
        {
          "output_type": "execute_result",
          "data": {
            "text/plain": [
              "      FL_DATE OP_UNIQUE_CARRIER  OP_CARRIER_FL_NUM ORIGIN DEST  CRS_DEP_TIME  \\\n",
              "0  2018-07-01                YV               5867    BOI  PHX          1135   \n",
              "1  2018-07-01                YV               5867    PHX  BOI           745   \n",
              "2  2018-07-01                YV               5868    PHX  AMA          1845   \n",
              "3  2018-07-01                YV               5869    AMA  PHX           914   \n",
              "4  2018-07-01                YV               5870    PHX  TUS          2005   \n",
              "\n",
              "   DEP_TIME  DEP_DELAY  CRS_ARR_TIME  ARR_TIME  ...  CRS_ELAPSED_TIME  \\\n",
              "0    1134.0       -1.0          1243    1230.0  ...             128.0   \n",
              "1     740.0       -5.0          1049    1050.0  ...             124.0   \n",
              "2    1840.0       -5.0          2232    2214.0  ...             107.0   \n",
              "3     859.0      -15.0           920     921.0  ...             126.0   \n",
              "4    2004.0       -1.0          2048    2050.0  ...              43.0   \n",
              "\n",
              "   ACTUAL_ELAPSED_TIME AIR_TIME  DISTANCE  CARRIER_DELAY  WEATHER_DELAY  \\\n",
              "0                116.0     99.0     735.0            NaN            NaN   \n",
              "1                130.0    104.0     735.0            NaN            NaN   \n",
              "2                 94.0     79.0     602.0            NaN            NaN   \n",
              "3                142.0     85.0     602.0            NaN            NaN   \n",
              "4                 46.0     28.0     110.0            NaN            NaN   \n",
              "\n",
              "   NAS_DELAY  SECURITY_DELAY  LATE_AIRCRAFT_DELAY  Unnamed: 22  \n",
              "0        NaN             NaN                  NaN          NaN  \n",
              "1        NaN             NaN                  NaN          NaN  \n",
              "2        NaN             NaN                  NaN          NaN  \n",
              "3        NaN             NaN                  NaN          NaN  \n",
              "4        NaN             NaN                  NaN          NaN  \n",
              "\n",
              "[5 rows x 23 columns]"
            ],
            "text/html": [
              "\n",
              "  <div id=\"df-d79c1d2e-1d73-4a54-b70f-094040bf4118\">\n",
              "    <div class=\"colab-df-container\">\n",
              "      <div>\n",
              "<style scoped>\n",
              "    .dataframe tbody tr th:only-of-type {\n",
              "        vertical-align: middle;\n",
              "    }\n",
              "\n",
              "    .dataframe tbody tr th {\n",
              "        vertical-align: top;\n",
              "    }\n",
              "\n",
              "    .dataframe thead th {\n",
              "        text-align: right;\n",
              "    }\n",
              "</style>\n",
              "<table border=\"1\" class=\"dataframe\">\n",
              "  <thead>\n",
              "    <tr style=\"text-align: right;\">\n",
              "      <th></th>\n",
              "      <th>FL_DATE</th>\n",
              "      <th>OP_UNIQUE_CARRIER</th>\n",
              "      <th>OP_CARRIER_FL_NUM</th>\n",
              "      <th>ORIGIN</th>\n",
              "      <th>DEST</th>\n",
              "      <th>CRS_DEP_TIME</th>\n",
              "      <th>DEP_TIME</th>\n",
              "      <th>DEP_DELAY</th>\n",
              "      <th>CRS_ARR_TIME</th>\n",
              "      <th>ARR_TIME</th>\n",
              "      <th>...</th>\n",
              "      <th>CRS_ELAPSED_TIME</th>\n",
              "      <th>ACTUAL_ELAPSED_TIME</th>\n",
              "      <th>AIR_TIME</th>\n",
              "      <th>DISTANCE</th>\n",
              "      <th>CARRIER_DELAY</th>\n",
              "      <th>WEATHER_DELAY</th>\n",
              "      <th>NAS_DELAY</th>\n",
              "      <th>SECURITY_DELAY</th>\n",
              "      <th>LATE_AIRCRAFT_DELAY</th>\n",
              "      <th>Unnamed: 22</th>\n",
              "    </tr>\n",
              "  </thead>\n",
              "  <tbody>\n",
              "    <tr>\n",
              "      <th>0</th>\n",
              "      <td>2018-07-01</td>\n",
              "      <td>YV</td>\n",
              "      <td>5867</td>\n",
              "      <td>BOI</td>\n",
              "      <td>PHX</td>\n",
              "      <td>1135</td>\n",
              "      <td>1134.0</td>\n",
              "      <td>-1.0</td>\n",
              "      <td>1243</td>\n",
              "      <td>1230.0</td>\n",
              "      <td>...</td>\n",
              "      <td>128.0</td>\n",
              "      <td>116.0</td>\n",
              "      <td>99.0</td>\n",
              "      <td>735.0</td>\n",
              "      <td>NaN</td>\n",
              "      <td>NaN</td>\n",
              "      <td>NaN</td>\n",
              "      <td>NaN</td>\n",
              "      <td>NaN</td>\n",
              "      <td>NaN</td>\n",
              "    </tr>\n",
              "    <tr>\n",
              "      <th>1</th>\n",
              "      <td>2018-07-01</td>\n",
              "      <td>YV</td>\n",
              "      <td>5867</td>\n",
              "      <td>PHX</td>\n",
              "      <td>BOI</td>\n",
              "      <td>745</td>\n",
              "      <td>740.0</td>\n",
              "      <td>-5.0</td>\n",
              "      <td>1049</td>\n",
              "      <td>1050.0</td>\n",
              "      <td>...</td>\n",
              "      <td>124.0</td>\n",
              "      <td>130.0</td>\n",
              "      <td>104.0</td>\n",
              "      <td>735.0</td>\n",
              "      <td>NaN</td>\n",
              "      <td>NaN</td>\n",
              "      <td>NaN</td>\n",
              "      <td>NaN</td>\n",
              "      <td>NaN</td>\n",
              "      <td>NaN</td>\n",
              "    </tr>\n",
              "    <tr>\n",
              "      <th>2</th>\n",
              "      <td>2018-07-01</td>\n",
              "      <td>YV</td>\n",
              "      <td>5868</td>\n",
              "      <td>PHX</td>\n",
              "      <td>AMA</td>\n",
              "      <td>1845</td>\n",
              "      <td>1840.0</td>\n",
              "      <td>-5.0</td>\n",
              "      <td>2232</td>\n",
              "      <td>2214.0</td>\n",
              "      <td>...</td>\n",
              "      <td>107.0</td>\n",
              "      <td>94.0</td>\n",
              "      <td>79.0</td>\n",
              "      <td>602.0</td>\n",
              "      <td>NaN</td>\n",
              "      <td>NaN</td>\n",
              "      <td>NaN</td>\n",
              "      <td>NaN</td>\n",
              "      <td>NaN</td>\n",
              "      <td>NaN</td>\n",
              "    </tr>\n",
              "    <tr>\n",
              "      <th>3</th>\n",
              "      <td>2018-07-01</td>\n",
              "      <td>YV</td>\n",
              "      <td>5869</td>\n",
              "      <td>AMA</td>\n",
              "      <td>PHX</td>\n",
              "      <td>914</td>\n",
              "      <td>859.0</td>\n",
              "      <td>-15.0</td>\n",
              "      <td>920</td>\n",
              "      <td>921.0</td>\n",
              "      <td>...</td>\n",
              "      <td>126.0</td>\n",
              "      <td>142.0</td>\n",
              "      <td>85.0</td>\n",
              "      <td>602.0</td>\n",
              "      <td>NaN</td>\n",
              "      <td>NaN</td>\n",
              "      <td>NaN</td>\n",
              "      <td>NaN</td>\n",
              "      <td>NaN</td>\n",
              "      <td>NaN</td>\n",
              "    </tr>\n",
              "    <tr>\n",
              "      <th>4</th>\n",
              "      <td>2018-07-01</td>\n",
              "      <td>YV</td>\n",
              "      <td>5870</td>\n",
              "      <td>PHX</td>\n",
              "      <td>TUS</td>\n",
              "      <td>2005</td>\n",
              "      <td>2004.0</td>\n",
              "      <td>-1.0</td>\n",
              "      <td>2048</td>\n",
              "      <td>2050.0</td>\n",
              "      <td>...</td>\n",
              "      <td>43.0</td>\n",
              "      <td>46.0</td>\n",
              "      <td>28.0</td>\n",
              "      <td>110.0</td>\n",
              "      <td>NaN</td>\n",
              "      <td>NaN</td>\n",
              "      <td>NaN</td>\n",
              "      <td>NaN</td>\n",
              "      <td>NaN</td>\n",
              "      <td>NaN</td>\n",
              "    </tr>\n",
              "  </tbody>\n",
              "</table>\n",
              "<p>5 rows × 23 columns</p>\n",
              "</div>\n",
              "      <button class=\"colab-df-convert\" onclick=\"convertToInteractive('df-d79c1d2e-1d73-4a54-b70f-094040bf4118')\"\n",
              "              title=\"Convert this dataframe to an interactive table.\"\n",
              "              style=\"display:none;\">\n",
              "        \n",
              "  <svg xmlns=\"http://www.w3.org/2000/svg\" height=\"24px\"viewBox=\"0 0 24 24\"\n",
              "       width=\"24px\">\n",
              "    <path d=\"M0 0h24v24H0V0z\" fill=\"none\"/>\n",
              "    <path d=\"M18.56 5.44l.94 2.06.94-2.06 2.06-.94-2.06-.94-.94-2.06-.94 2.06-2.06.94zm-11 1L8.5 8.5l.94-2.06 2.06-.94-2.06-.94L8.5 2.5l-.94 2.06-2.06.94zm10 10l.94 2.06.94-2.06 2.06-.94-2.06-.94-.94-2.06-.94 2.06-2.06.94z\"/><path d=\"M17.41 7.96l-1.37-1.37c-.4-.4-.92-.59-1.43-.59-.52 0-1.04.2-1.43.59L10.3 9.45l-7.72 7.72c-.78.78-.78 2.05 0 2.83L4 21.41c.39.39.9.59 1.41.59.51 0 1.02-.2 1.41-.59l7.78-7.78 2.81-2.81c.8-.78.8-2.07 0-2.86zM5.41 20L4 18.59l7.72-7.72 1.47 1.35L5.41 20z\"/>\n",
              "  </svg>\n",
              "      </button>\n",
              "      \n",
              "  <style>\n",
              "    .colab-df-container {\n",
              "      display:flex;\n",
              "      flex-wrap:wrap;\n",
              "      gap: 12px;\n",
              "    }\n",
              "\n",
              "    .colab-df-convert {\n",
              "      background-color: #E8F0FE;\n",
              "      border: none;\n",
              "      border-radius: 50%;\n",
              "      cursor: pointer;\n",
              "      display: none;\n",
              "      fill: #1967D2;\n",
              "      height: 32px;\n",
              "      padding: 0 0 0 0;\n",
              "      width: 32px;\n",
              "    }\n",
              "\n",
              "    .colab-df-convert:hover {\n",
              "      background-color: #E2EBFA;\n",
              "      box-shadow: 0px 1px 2px rgba(60, 64, 67, 0.3), 0px 1px 3px 1px rgba(60, 64, 67, 0.15);\n",
              "      fill: #174EA6;\n",
              "    }\n",
              "\n",
              "    [theme=dark] .colab-df-convert {\n",
              "      background-color: #3B4455;\n",
              "      fill: #D2E3FC;\n",
              "    }\n",
              "\n",
              "    [theme=dark] .colab-df-convert:hover {\n",
              "      background-color: #434B5C;\n",
              "      box-shadow: 0px 1px 3px 1px rgba(0, 0, 0, 0.15);\n",
              "      filter: drop-shadow(0px 1px 2px rgba(0, 0, 0, 0.3));\n",
              "      fill: #FFFFFF;\n",
              "    }\n",
              "  </style>\n",
              "\n",
              "      <script>\n",
              "        const buttonEl =\n",
              "          document.querySelector('#df-d79c1d2e-1d73-4a54-b70f-094040bf4118 button.colab-df-convert');\n",
              "        buttonEl.style.display =\n",
              "          google.colab.kernel.accessAllowed ? 'block' : 'none';\n",
              "\n",
              "        async function convertToInteractive(key) {\n",
              "          const element = document.querySelector('#df-d79c1d2e-1d73-4a54-b70f-094040bf4118');\n",
              "          const dataTable =\n",
              "            await google.colab.kernel.invokeFunction('convertToInteractive',\n",
              "                                                     [key], {});\n",
              "          if (!dataTable) return;\n",
              "\n",
              "          const docLinkHtml = 'Like what you see? Visit the ' +\n",
              "            '<a target=\"_blank\" href=https://colab.research.google.com/notebooks/data_table.ipynb>data table notebook</a>'\n",
              "            + ' to learn more about interactive tables.';\n",
              "          element.innerHTML = '';\n",
              "          dataTable['output_type'] = 'display_data';\n",
              "          await google.colab.output.renderOutput(dataTable, element);\n",
              "          const docLink = document.createElement('div');\n",
              "          docLink.innerHTML = docLinkHtml;\n",
              "          element.appendChild(docLink);\n",
              "        }\n",
              "      </script>\n",
              "    </div>\n",
              "  </div>\n",
              "  "
            ]
          },
          "metadata": {},
          "execution_count": 49
        }
      ]
    },
    {
      "cell_type": "code",
      "source": [
        "df.shape"
      ],
      "metadata": {
        "colab": {
          "base_uri": "https://localhost:8080/"
        },
        "id": "T6x80E3JlOPt",
        "outputId": "32694a62-9b6b-489d-dd97-d5d1b1b349f5"
      },
      "execution_count": 50,
      "outputs": [
        {
          "output_type": "execute_result",
          "data": {
            "text/plain": [
              "(645299, 23)"
            ]
          },
          "metadata": {},
          "execution_count": 50
        }
      ]
    },
    {
      "cell_type": "code",
      "source": [
        "df.columns"
      ],
      "metadata": {
        "colab": {
          "base_uri": "https://localhost:8080/"
        },
        "id": "-O4SCdgXlX7o",
        "outputId": "9573d655-ff73-40e1-f58a-2fc4bcb699b9"
      },
      "execution_count": 51,
      "outputs": [
        {
          "output_type": "execute_result",
          "data": {
            "text/plain": [
              "Index(['FL_DATE', 'OP_UNIQUE_CARRIER', 'OP_CARRIER_FL_NUM', 'ORIGIN', 'DEST',\n",
              "       'CRS_DEP_TIME', 'DEP_TIME', 'DEP_DELAY', 'CRS_ARR_TIME', 'ARR_TIME',\n",
              "       'ARR_DELAY', 'CANCELLED', 'CANCELLATION_CODE', 'CRS_ELAPSED_TIME',\n",
              "       'ACTUAL_ELAPSED_TIME', 'AIR_TIME', 'DISTANCE', 'CARRIER_DELAY',\n",
              "       'WEATHER_DELAY', 'NAS_DELAY', 'SECURITY_DELAY', 'LATE_AIRCRAFT_DELAY',\n",
              "       'Unnamed: 22'],\n",
              "      dtype='object')"
            ]
          },
          "metadata": {},
          "execution_count": 51
        }
      ]
    },
    {
      "cell_type": "code",
      "source": [
        "df.info()"
      ],
      "metadata": {
        "colab": {
          "base_uri": "https://localhost:8080/"
        },
        "id": "Nd4gQSyenLC9",
        "outputId": "793bb537-1b4d-4596-fd9d-d1f33fda4df9"
      },
      "execution_count": 52,
      "outputs": [
        {
          "output_type": "stream",
          "name": "stdout",
          "text": [
            "<class 'pandas.core.frame.DataFrame'>\n",
            "RangeIndex: 645299 entries, 0 to 645298\n",
            "Data columns (total 23 columns):\n",
            " #   Column               Non-Null Count   Dtype  \n",
            "---  ------               --------------   -----  \n",
            " 0   FL_DATE              645299 non-null  object \n",
            " 1   OP_UNIQUE_CARRIER    645299 non-null  object \n",
            " 2   OP_CARRIER_FL_NUM    645299 non-null  int64  \n",
            " 3   ORIGIN               645299 non-null  object \n",
            " 4   DEST                 645299 non-null  object \n",
            " 5   CRS_DEP_TIME         645299 non-null  int64  \n",
            " 6   DEP_TIME             634782 non-null  float64\n",
            " 7   DEP_DELAY            634146 non-null  float64\n",
            " 8   CRS_ARR_TIME         645299 non-null  int64  \n",
            " 9   ARR_TIME             634018 non-null  float64\n",
            " 10  ARR_DELAY            631789 non-null  float64\n",
            " 11  CANCELLED            645299 non-null  float64\n",
            " 12  CANCELLATION_CODE    11083 non-null   object \n",
            " 13  CRS_ELAPSED_TIME     645299 non-null  float64\n",
            " 14  ACTUAL_ELAPSED_TIME  632164 non-null  float64\n",
            " 15  AIR_TIME             632164 non-null  float64\n",
            " 16  DISTANCE             645299 non-null  float64\n",
            " 17  CARRIER_DELAY        142650 non-null  float64\n",
            " 18  WEATHER_DELAY        142650 non-null  float64\n",
            " 19  NAS_DELAY            142650 non-null  float64\n",
            " 20  SECURITY_DELAY       142650 non-null  float64\n",
            " 21  LATE_AIRCRAFT_DELAY  142650 non-null  float64\n",
            " 22  Unnamed: 22          0 non-null       float64\n",
            "dtypes: float64(15), int64(3), object(5)\n",
            "memory usage: 113.2+ MB\n"
          ]
        }
      ]
    },
    {
      "cell_type": "markdown",
      "source": [
        "From information of flights in July 2018:\n",
        "- Not every real departure time is available in dataframe (634,782 out of 645,299)\n",
        "- Even less `dep_delay` times are available. Will need to calculate myself.\n",
        "- 11,083 flights are cancelled\n",
        "- 142,650 flights are delayed\n",
        "- It will be interesting to check what is written in delay times incase flight is cancelled"
      ],
      "metadata": {
        "id": "N-Je12w0nNjI"
      }
    },
    {
      "cell_type": "code",
      "source": [
        "df[df['CANCELLED']==1].head()"
      ],
      "metadata": {
        "colab": {
          "base_uri": "https://localhost:8080/",
          "height": 404
        },
        "id": "SxpWr9xEpC3H",
        "outputId": "7dcf1f2f-7272-400e-a585-18ddf5e231b0"
      },
      "execution_count": 53,
      "outputs": [
        {
          "output_type": "execute_result",
          "data": {
            "text/plain": [
              "        FL_DATE OP_UNIQUE_CARRIER  OP_CARRIER_FL_NUM ORIGIN DEST  \\\n",
              "123  2018-07-01                YV               5995    DFW  LBB   \n",
              "274  2018-07-01                AA               2208    ORD  AUS   \n",
              "294  2018-07-01                AA               2231    BOS  ORD   \n",
              "313  2018-07-01                AA               2247    ORD  PDX   \n",
              "380  2018-07-01                AA               1023    MIA  DTW   \n",
              "\n",
              "     CRS_DEP_TIME  DEP_TIME  DEP_DELAY  CRS_ARR_TIME  ARR_TIME  ...  \\\n",
              "123          1850    1859.0        9.0          1958       NaN  ...   \n",
              "274          2005       NaN        NaN          2244       NaN  ...   \n",
              "294          1726       NaN        NaN          1935       NaN  ...   \n",
              "313          1740       NaN        NaN          2005       NaN  ...   \n",
              "380          1950       NaN        NaN          2257       NaN  ...   \n",
              "\n",
              "     CRS_ELAPSED_TIME  ACTUAL_ELAPSED_TIME AIR_TIME  DISTANCE  CARRIER_DELAY  \\\n",
              "123              68.0                  NaN      NaN     282.0            NaN   \n",
              "274             159.0                  NaN      NaN     977.0            NaN   \n",
              "294             189.0                  NaN      NaN     867.0            NaN   \n",
              "313             265.0                  NaN      NaN    1739.0            NaN   \n",
              "380             187.0                  NaN      NaN    1145.0            NaN   \n",
              "\n",
              "     WEATHER_DELAY  NAS_DELAY  SECURITY_DELAY  LATE_AIRCRAFT_DELAY  \\\n",
              "123            NaN        NaN             NaN                  NaN   \n",
              "274            NaN        NaN             NaN                  NaN   \n",
              "294            NaN        NaN             NaN                  NaN   \n",
              "313            NaN        NaN             NaN                  NaN   \n",
              "380            NaN        NaN             NaN                  NaN   \n",
              "\n",
              "     Unnamed: 22  \n",
              "123          NaN  \n",
              "274          NaN  \n",
              "294          NaN  \n",
              "313          NaN  \n",
              "380          NaN  \n",
              "\n",
              "[5 rows x 23 columns]"
            ],
            "text/html": [
              "\n",
              "  <div id=\"df-ab3d94dc-54fc-488f-b851-7e1b6152d16a\">\n",
              "    <div class=\"colab-df-container\">\n",
              "      <div>\n",
              "<style scoped>\n",
              "    .dataframe tbody tr th:only-of-type {\n",
              "        vertical-align: middle;\n",
              "    }\n",
              "\n",
              "    .dataframe tbody tr th {\n",
              "        vertical-align: top;\n",
              "    }\n",
              "\n",
              "    .dataframe thead th {\n",
              "        text-align: right;\n",
              "    }\n",
              "</style>\n",
              "<table border=\"1\" class=\"dataframe\">\n",
              "  <thead>\n",
              "    <tr style=\"text-align: right;\">\n",
              "      <th></th>\n",
              "      <th>FL_DATE</th>\n",
              "      <th>OP_UNIQUE_CARRIER</th>\n",
              "      <th>OP_CARRIER_FL_NUM</th>\n",
              "      <th>ORIGIN</th>\n",
              "      <th>DEST</th>\n",
              "      <th>CRS_DEP_TIME</th>\n",
              "      <th>DEP_TIME</th>\n",
              "      <th>DEP_DELAY</th>\n",
              "      <th>CRS_ARR_TIME</th>\n",
              "      <th>ARR_TIME</th>\n",
              "      <th>...</th>\n",
              "      <th>CRS_ELAPSED_TIME</th>\n",
              "      <th>ACTUAL_ELAPSED_TIME</th>\n",
              "      <th>AIR_TIME</th>\n",
              "      <th>DISTANCE</th>\n",
              "      <th>CARRIER_DELAY</th>\n",
              "      <th>WEATHER_DELAY</th>\n",
              "      <th>NAS_DELAY</th>\n",
              "      <th>SECURITY_DELAY</th>\n",
              "      <th>LATE_AIRCRAFT_DELAY</th>\n",
              "      <th>Unnamed: 22</th>\n",
              "    </tr>\n",
              "  </thead>\n",
              "  <tbody>\n",
              "    <tr>\n",
              "      <th>123</th>\n",
              "      <td>2018-07-01</td>\n",
              "      <td>YV</td>\n",
              "      <td>5995</td>\n",
              "      <td>DFW</td>\n",
              "      <td>LBB</td>\n",
              "      <td>1850</td>\n",
              "      <td>1859.0</td>\n",
              "      <td>9.0</td>\n",
              "      <td>1958</td>\n",
              "      <td>NaN</td>\n",
              "      <td>...</td>\n",
              "      <td>68.0</td>\n",
              "      <td>NaN</td>\n",
              "      <td>NaN</td>\n",
              "      <td>282.0</td>\n",
              "      <td>NaN</td>\n",
              "      <td>NaN</td>\n",
              "      <td>NaN</td>\n",
              "      <td>NaN</td>\n",
              "      <td>NaN</td>\n",
              "      <td>NaN</td>\n",
              "    </tr>\n",
              "    <tr>\n",
              "      <th>274</th>\n",
              "      <td>2018-07-01</td>\n",
              "      <td>AA</td>\n",
              "      <td>2208</td>\n",
              "      <td>ORD</td>\n",
              "      <td>AUS</td>\n",
              "      <td>2005</td>\n",
              "      <td>NaN</td>\n",
              "      <td>NaN</td>\n",
              "      <td>2244</td>\n",
              "      <td>NaN</td>\n",
              "      <td>...</td>\n",
              "      <td>159.0</td>\n",
              "      <td>NaN</td>\n",
              "      <td>NaN</td>\n",
              "      <td>977.0</td>\n",
              "      <td>NaN</td>\n",
              "      <td>NaN</td>\n",
              "      <td>NaN</td>\n",
              "      <td>NaN</td>\n",
              "      <td>NaN</td>\n",
              "      <td>NaN</td>\n",
              "    </tr>\n",
              "    <tr>\n",
              "      <th>294</th>\n",
              "      <td>2018-07-01</td>\n",
              "      <td>AA</td>\n",
              "      <td>2231</td>\n",
              "      <td>BOS</td>\n",
              "      <td>ORD</td>\n",
              "      <td>1726</td>\n",
              "      <td>NaN</td>\n",
              "      <td>NaN</td>\n",
              "      <td>1935</td>\n",
              "      <td>NaN</td>\n",
              "      <td>...</td>\n",
              "      <td>189.0</td>\n",
              "      <td>NaN</td>\n",
              "      <td>NaN</td>\n",
              "      <td>867.0</td>\n",
              "      <td>NaN</td>\n",
              "      <td>NaN</td>\n",
              "      <td>NaN</td>\n",
              "      <td>NaN</td>\n",
              "      <td>NaN</td>\n",
              "      <td>NaN</td>\n",
              "    </tr>\n",
              "    <tr>\n",
              "      <th>313</th>\n",
              "      <td>2018-07-01</td>\n",
              "      <td>AA</td>\n",
              "      <td>2247</td>\n",
              "      <td>ORD</td>\n",
              "      <td>PDX</td>\n",
              "      <td>1740</td>\n",
              "      <td>NaN</td>\n",
              "      <td>NaN</td>\n",
              "      <td>2005</td>\n",
              "      <td>NaN</td>\n",
              "      <td>...</td>\n",
              "      <td>265.0</td>\n",
              "      <td>NaN</td>\n",
              "      <td>NaN</td>\n",
              "      <td>1739.0</td>\n",
              "      <td>NaN</td>\n",
              "      <td>NaN</td>\n",
              "      <td>NaN</td>\n",
              "      <td>NaN</td>\n",
              "      <td>NaN</td>\n",
              "      <td>NaN</td>\n",
              "    </tr>\n",
              "    <tr>\n",
              "      <th>380</th>\n",
              "      <td>2018-07-01</td>\n",
              "      <td>AA</td>\n",
              "      <td>1023</td>\n",
              "      <td>MIA</td>\n",
              "      <td>DTW</td>\n",
              "      <td>1950</td>\n",
              "      <td>NaN</td>\n",
              "      <td>NaN</td>\n",
              "      <td>2257</td>\n",
              "      <td>NaN</td>\n",
              "      <td>...</td>\n",
              "      <td>187.0</td>\n",
              "      <td>NaN</td>\n",
              "      <td>NaN</td>\n",
              "      <td>1145.0</td>\n",
              "      <td>NaN</td>\n",
              "      <td>NaN</td>\n",
              "      <td>NaN</td>\n",
              "      <td>NaN</td>\n",
              "      <td>NaN</td>\n",
              "      <td>NaN</td>\n",
              "    </tr>\n",
              "  </tbody>\n",
              "</table>\n",
              "<p>5 rows × 23 columns</p>\n",
              "</div>\n",
              "      <button class=\"colab-df-convert\" onclick=\"convertToInteractive('df-ab3d94dc-54fc-488f-b851-7e1b6152d16a')\"\n",
              "              title=\"Convert this dataframe to an interactive table.\"\n",
              "              style=\"display:none;\">\n",
              "        \n",
              "  <svg xmlns=\"http://www.w3.org/2000/svg\" height=\"24px\"viewBox=\"0 0 24 24\"\n",
              "       width=\"24px\">\n",
              "    <path d=\"M0 0h24v24H0V0z\" fill=\"none\"/>\n",
              "    <path d=\"M18.56 5.44l.94 2.06.94-2.06 2.06-.94-2.06-.94-.94-2.06-.94 2.06-2.06.94zm-11 1L8.5 8.5l.94-2.06 2.06-.94-2.06-.94L8.5 2.5l-.94 2.06-2.06.94zm10 10l.94 2.06.94-2.06 2.06-.94-2.06-.94-.94-2.06-.94 2.06-2.06.94z\"/><path d=\"M17.41 7.96l-1.37-1.37c-.4-.4-.92-.59-1.43-.59-.52 0-1.04.2-1.43.59L10.3 9.45l-7.72 7.72c-.78.78-.78 2.05 0 2.83L4 21.41c.39.39.9.59 1.41.59.51 0 1.02-.2 1.41-.59l7.78-7.78 2.81-2.81c.8-.78.8-2.07 0-2.86zM5.41 20L4 18.59l7.72-7.72 1.47 1.35L5.41 20z\"/>\n",
              "  </svg>\n",
              "      </button>\n",
              "      \n",
              "  <style>\n",
              "    .colab-df-container {\n",
              "      display:flex;\n",
              "      flex-wrap:wrap;\n",
              "      gap: 12px;\n",
              "    }\n",
              "\n",
              "    .colab-df-convert {\n",
              "      background-color: #E8F0FE;\n",
              "      border: none;\n",
              "      border-radius: 50%;\n",
              "      cursor: pointer;\n",
              "      display: none;\n",
              "      fill: #1967D2;\n",
              "      height: 32px;\n",
              "      padding: 0 0 0 0;\n",
              "      width: 32px;\n",
              "    }\n",
              "\n",
              "    .colab-df-convert:hover {\n",
              "      background-color: #E2EBFA;\n",
              "      box-shadow: 0px 1px 2px rgba(60, 64, 67, 0.3), 0px 1px 3px 1px rgba(60, 64, 67, 0.15);\n",
              "      fill: #174EA6;\n",
              "    }\n",
              "\n",
              "    [theme=dark] .colab-df-convert {\n",
              "      background-color: #3B4455;\n",
              "      fill: #D2E3FC;\n",
              "    }\n",
              "\n",
              "    [theme=dark] .colab-df-convert:hover {\n",
              "      background-color: #434B5C;\n",
              "      box-shadow: 0px 1px 3px 1px rgba(0, 0, 0, 0.15);\n",
              "      filter: drop-shadow(0px 1px 2px rgba(0, 0, 0, 0.3));\n",
              "      fill: #FFFFFF;\n",
              "    }\n",
              "  </style>\n",
              "\n",
              "      <script>\n",
              "        const buttonEl =\n",
              "          document.querySelector('#df-ab3d94dc-54fc-488f-b851-7e1b6152d16a button.colab-df-convert');\n",
              "        buttonEl.style.display =\n",
              "          google.colab.kernel.accessAllowed ? 'block' : 'none';\n",
              "\n",
              "        async function convertToInteractive(key) {\n",
              "          const element = document.querySelector('#df-ab3d94dc-54fc-488f-b851-7e1b6152d16a');\n",
              "          const dataTable =\n",
              "            await google.colab.kernel.invokeFunction('convertToInteractive',\n",
              "                                                     [key], {});\n",
              "          if (!dataTable) return;\n",
              "\n",
              "          const docLinkHtml = 'Like what you see? Visit the ' +\n",
              "            '<a target=\"_blank\" href=https://colab.research.google.com/notebooks/data_table.ipynb>data table notebook</a>'\n",
              "            + ' to learn more about interactive tables.';\n",
              "          element.innerHTML = '';\n",
              "          dataTable['output_type'] = 'display_data';\n",
              "          await google.colab.output.renderOutput(dataTable, element);\n",
              "          const docLink = document.createElement('div');\n",
              "          docLink.innerHTML = docLinkHtml;\n",
              "          element.appendChild(docLink);\n",
              "        }\n",
              "      </script>\n",
              "    </div>\n",
              "  </div>\n",
              "  "
            ]
          },
          "metadata": {},
          "execution_count": 53
        }
      ]
    },
    {
      "cell_type": "markdown",
      "source": [
        "From the row 123, `dep_delay` time is 9 minutes, however the flight is cancelled. So should drop flights that are cancelled first, and only then consider delayed flights."
      ],
      "metadata": {
        "id": "vXl7gCEUpqcI"
      }
    },
    {
      "cell_type": "code",
      "source": [
        "df.describe()"
      ],
      "metadata": {
        "colab": {
          "base_uri": "https://localhost:8080/",
          "height": 382
        },
        "id": "HyYwda3Wmiaq",
        "outputId": "68491a11-3339-4b11-8bbf-0809a720045b"
      },
      "execution_count": 54,
      "outputs": [
        {
          "output_type": "execute_result",
          "data": {
            "text/plain": [
              "       OP_CARRIER_FL_NUM   CRS_DEP_TIME       DEP_TIME      DEP_DELAY  \\\n",
              "count      645299.000000  645299.000000  634782.000000  634146.000000   \n",
              "mean         2545.699391    1334.020648    1337.691734      13.628332   \n",
              "std          1818.710195     498.048666     518.030479      48.945389   \n",
              "min             1.000000       1.000000       1.000000     -47.000000   \n",
              "25%          1008.000000     912.000000     911.000000      -5.000000   \n",
              "50%          2122.000000    1325.000000    1326.000000      -2.000000   \n",
              "75%          3936.000000    1742.000000    1754.000000      11.000000   \n",
              "max          7439.000000    2359.000000    2400.000000    2710.000000   \n",
              "\n",
              "        CRS_ARR_TIME       ARR_TIME      ARR_DELAY      CANCELLED  \\\n",
              "count  645299.000000  634018.000000  631789.000000  645299.000000   \n",
              "mean     1478.234528    1445.539753       9.098327       0.017175   \n",
              "std       529.106865     559.598805      50.895688       0.129923   \n",
              "min         1.000000       1.000000     -88.000000       0.000000   \n",
              "25%      1052.000000    1032.000000     -13.000000       0.000000   \n",
              "50%      1511.000000    1452.000000      -4.000000       0.000000   \n",
              "75%      1919.000000    1916.000000      11.000000       0.000000   \n",
              "max      2359.000000    2400.000000    2692.000000       1.000000   \n",
              "\n",
              "       CRS_ELAPSED_TIME  ACTUAL_ELAPSED_TIME       AIR_TIME       DISTANCE  \\\n",
              "count     645299.000000        632164.000000  632164.000000  645299.000000   \n",
              "mean         142.045856           137.720153     112.352042     819.179924   \n",
              "std           73.896393            74.132479      71.532977     612.213599   \n",
              "min            1.000000            16.000000       8.000000      31.000000   \n",
              "25%           89.000000            83.000000      60.000000     370.000000   \n",
              "50%          123.000000           119.000000      93.000000     646.000000   \n",
              "75%          171.000000           168.000000     141.000000    1050.000000   \n",
              "max          656.000000           736.000000     659.000000    4983.000000   \n",
              "\n",
              "       CARRIER_DELAY  WEATHER_DELAY      NAS_DELAY  SECURITY_DELAY  \\\n",
              "count  142650.000000  142650.000000  142650.000000   142650.000000   \n",
              "mean       19.118058       4.376460      16.804059        0.082299   \n",
              "std        55.467971      29.600792      39.216891        2.699017   \n",
              "min         0.000000       0.000000       0.000000        0.000000   \n",
              "25%         0.000000       0.000000       0.000000        0.000000   \n",
              "50%         0.000000       0.000000       2.000000        0.000000   \n",
              "75%        17.000000       0.000000      19.000000        0.000000   \n",
              "max      1861.000000    2692.000000    1194.000000      636.000000   \n",
              "\n",
              "       LATE_AIRCRAFT_DELAY  Unnamed: 22  \n",
              "count        142650.000000          0.0  \n",
              "mean             28.722257          NaN  \n",
              "std              51.548889          NaN  \n",
              "min               0.000000          NaN  \n",
              "25%               0.000000          NaN  \n",
              "50%               6.000000          NaN  \n",
              "75%              37.000000          NaN  \n",
              "max            1253.000000          NaN  "
            ],
            "text/html": [
              "\n",
              "  <div id=\"df-8bde05df-3c54-453d-9f0b-6a579411d87d\">\n",
              "    <div class=\"colab-df-container\">\n",
              "      <div>\n",
              "<style scoped>\n",
              "    .dataframe tbody tr th:only-of-type {\n",
              "        vertical-align: middle;\n",
              "    }\n",
              "\n",
              "    .dataframe tbody tr th {\n",
              "        vertical-align: top;\n",
              "    }\n",
              "\n",
              "    .dataframe thead th {\n",
              "        text-align: right;\n",
              "    }\n",
              "</style>\n",
              "<table border=\"1\" class=\"dataframe\">\n",
              "  <thead>\n",
              "    <tr style=\"text-align: right;\">\n",
              "      <th></th>\n",
              "      <th>OP_CARRIER_FL_NUM</th>\n",
              "      <th>CRS_DEP_TIME</th>\n",
              "      <th>DEP_TIME</th>\n",
              "      <th>DEP_DELAY</th>\n",
              "      <th>CRS_ARR_TIME</th>\n",
              "      <th>ARR_TIME</th>\n",
              "      <th>ARR_DELAY</th>\n",
              "      <th>CANCELLED</th>\n",
              "      <th>CRS_ELAPSED_TIME</th>\n",
              "      <th>ACTUAL_ELAPSED_TIME</th>\n",
              "      <th>AIR_TIME</th>\n",
              "      <th>DISTANCE</th>\n",
              "      <th>CARRIER_DELAY</th>\n",
              "      <th>WEATHER_DELAY</th>\n",
              "      <th>NAS_DELAY</th>\n",
              "      <th>SECURITY_DELAY</th>\n",
              "      <th>LATE_AIRCRAFT_DELAY</th>\n",
              "      <th>Unnamed: 22</th>\n",
              "    </tr>\n",
              "  </thead>\n",
              "  <tbody>\n",
              "    <tr>\n",
              "      <th>count</th>\n",
              "      <td>645299.000000</td>\n",
              "      <td>645299.000000</td>\n",
              "      <td>634782.000000</td>\n",
              "      <td>634146.000000</td>\n",
              "      <td>645299.000000</td>\n",
              "      <td>634018.000000</td>\n",
              "      <td>631789.000000</td>\n",
              "      <td>645299.000000</td>\n",
              "      <td>645299.000000</td>\n",
              "      <td>632164.000000</td>\n",
              "      <td>632164.000000</td>\n",
              "      <td>645299.000000</td>\n",
              "      <td>142650.000000</td>\n",
              "      <td>142650.000000</td>\n",
              "      <td>142650.000000</td>\n",
              "      <td>142650.000000</td>\n",
              "      <td>142650.000000</td>\n",
              "      <td>0.0</td>\n",
              "    </tr>\n",
              "    <tr>\n",
              "      <th>mean</th>\n",
              "      <td>2545.699391</td>\n",
              "      <td>1334.020648</td>\n",
              "      <td>1337.691734</td>\n",
              "      <td>13.628332</td>\n",
              "      <td>1478.234528</td>\n",
              "      <td>1445.539753</td>\n",
              "      <td>9.098327</td>\n",
              "      <td>0.017175</td>\n",
              "      <td>142.045856</td>\n",
              "      <td>137.720153</td>\n",
              "      <td>112.352042</td>\n",
              "      <td>819.179924</td>\n",
              "      <td>19.118058</td>\n",
              "      <td>4.376460</td>\n",
              "      <td>16.804059</td>\n",
              "      <td>0.082299</td>\n",
              "      <td>28.722257</td>\n",
              "      <td>NaN</td>\n",
              "    </tr>\n",
              "    <tr>\n",
              "      <th>std</th>\n",
              "      <td>1818.710195</td>\n",
              "      <td>498.048666</td>\n",
              "      <td>518.030479</td>\n",
              "      <td>48.945389</td>\n",
              "      <td>529.106865</td>\n",
              "      <td>559.598805</td>\n",
              "      <td>50.895688</td>\n",
              "      <td>0.129923</td>\n",
              "      <td>73.896393</td>\n",
              "      <td>74.132479</td>\n",
              "      <td>71.532977</td>\n",
              "      <td>612.213599</td>\n",
              "      <td>55.467971</td>\n",
              "      <td>29.600792</td>\n",
              "      <td>39.216891</td>\n",
              "      <td>2.699017</td>\n",
              "      <td>51.548889</td>\n",
              "      <td>NaN</td>\n",
              "    </tr>\n",
              "    <tr>\n",
              "      <th>min</th>\n",
              "      <td>1.000000</td>\n",
              "      <td>1.000000</td>\n",
              "      <td>1.000000</td>\n",
              "      <td>-47.000000</td>\n",
              "      <td>1.000000</td>\n",
              "      <td>1.000000</td>\n",
              "      <td>-88.000000</td>\n",
              "      <td>0.000000</td>\n",
              "      <td>1.000000</td>\n",
              "      <td>16.000000</td>\n",
              "      <td>8.000000</td>\n",
              "      <td>31.000000</td>\n",
              "      <td>0.000000</td>\n",
              "      <td>0.000000</td>\n",
              "      <td>0.000000</td>\n",
              "      <td>0.000000</td>\n",
              "      <td>0.000000</td>\n",
              "      <td>NaN</td>\n",
              "    </tr>\n",
              "    <tr>\n",
              "      <th>25%</th>\n",
              "      <td>1008.000000</td>\n",
              "      <td>912.000000</td>\n",
              "      <td>911.000000</td>\n",
              "      <td>-5.000000</td>\n",
              "      <td>1052.000000</td>\n",
              "      <td>1032.000000</td>\n",
              "      <td>-13.000000</td>\n",
              "      <td>0.000000</td>\n",
              "      <td>89.000000</td>\n",
              "      <td>83.000000</td>\n",
              "      <td>60.000000</td>\n",
              "      <td>370.000000</td>\n",
              "      <td>0.000000</td>\n",
              "      <td>0.000000</td>\n",
              "      <td>0.000000</td>\n",
              "      <td>0.000000</td>\n",
              "      <td>0.000000</td>\n",
              "      <td>NaN</td>\n",
              "    </tr>\n",
              "    <tr>\n",
              "      <th>50%</th>\n",
              "      <td>2122.000000</td>\n",
              "      <td>1325.000000</td>\n",
              "      <td>1326.000000</td>\n",
              "      <td>-2.000000</td>\n",
              "      <td>1511.000000</td>\n",
              "      <td>1452.000000</td>\n",
              "      <td>-4.000000</td>\n",
              "      <td>0.000000</td>\n",
              "      <td>123.000000</td>\n",
              "      <td>119.000000</td>\n",
              "      <td>93.000000</td>\n",
              "      <td>646.000000</td>\n",
              "      <td>0.000000</td>\n",
              "      <td>0.000000</td>\n",
              "      <td>2.000000</td>\n",
              "      <td>0.000000</td>\n",
              "      <td>6.000000</td>\n",
              "      <td>NaN</td>\n",
              "    </tr>\n",
              "    <tr>\n",
              "      <th>75%</th>\n",
              "      <td>3936.000000</td>\n",
              "      <td>1742.000000</td>\n",
              "      <td>1754.000000</td>\n",
              "      <td>11.000000</td>\n",
              "      <td>1919.000000</td>\n",
              "      <td>1916.000000</td>\n",
              "      <td>11.000000</td>\n",
              "      <td>0.000000</td>\n",
              "      <td>171.000000</td>\n",
              "      <td>168.000000</td>\n",
              "      <td>141.000000</td>\n",
              "      <td>1050.000000</td>\n",
              "      <td>17.000000</td>\n",
              "      <td>0.000000</td>\n",
              "      <td>19.000000</td>\n",
              "      <td>0.000000</td>\n",
              "      <td>37.000000</td>\n",
              "      <td>NaN</td>\n",
              "    </tr>\n",
              "    <tr>\n",
              "      <th>max</th>\n",
              "      <td>7439.000000</td>\n",
              "      <td>2359.000000</td>\n",
              "      <td>2400.000000</td>\n",
              "      <td>2710.000000</td>\n",
              "      <td>2359.000000</td>\n",
              "      <td>2400.000000</td>\n",
              "      <td>2692.000000</td>\n",
              "      <td>1.000000</td>\n",
              "      <td>656.000000</td>\n",
              "      <td>736.000000</td>\n",
              "      <td>659.000000</td>\n",
              "      <td>4983.000000</td>\n",
              "      <td>1861.000000</td>\n",
              "      <td>2692.000000</td>\n",
              "      <td>1194.000000</td>\n",
              "      <td>636.000000</td>\n",
              "      <td>1253.000000</td>\n",
              "      <td>NaN</td>\n",
              "    </tr>\n",
              "  </tbody>\n",
              "</table>\n",
              "</div>\n",
              "      <button class=\"colab-df-convert\" onclick=\"convertToInteractive('df-8bde05df-3c54-453d-9f0b-6a579411d87d')\"\n",
              "              title=\"Convert this dataframe to an interactive table.\"\n",
              "              style=\"display:none;\">\n",
              "        \n",
              "  <svg xmlns=\"http://www.w3.org/2000/svg\" height=\"24px\"viewBox=\"0 0 24 24\"\n",
              "       width=\"24px\">\n",
              "    <path d=\"M0 0h24v24H0V0z\" fill=\"none\"/>\n",
              "    <path d=\"M18.56 5.44l.94 2.06.94-2.06 2.06-.94-2.06-.94-.94-2.06-.94 2.06-2.06.94zm-11 1L8.5 8.5l.94-2.06 2.06-.94-2.06-.94L8.5 2.5l-.94 2.06-2.06.94zm10 10l.94 2.06.94-2.06 2.06-.94-2.06-.94-.94-2.06-.94 2.06-2.06.94z\"/><path d=\"M17.41 7.96l-1.37-1.37c-.4-.4-.92-.59-1.43-.59-.52 0-1.04.2-1.43.59L10.3 9.45l-7.72 7.72c-.78.78-.78 2.05 0 2.83L4 21.41c.39.39.9.59 1.41.59.51 0 1.02-.2 1.41-.59l7.78-7.78 2.81-2.81c.8-.78.8-2.07 0-2.86zM5.41 20L4 18.59l7.72-7.72 1.47 1.35L5.41 20z\"/>\n",
              "  </svg>\n",
              "      </button>\n",
              "      \n",
              "  <style>\n",
              "    .colab-df-container {\n",
              "      display:flex;\n",
              "      flex-wrap:wrap;\n",
              "      gap: 12px;\n",
              "    }\n",
              "\n",
              "    .colab-df-convert {\n",
              "      background-color: #E8F0FE;\n",
              "      border: none;\n",
              "      border-radius: 50%;\n",
              "      cursor: pointer;\n",
              "      display: none;\n",
              "      fill: #1967D2;\n",
              "      height: 32px;\n",
              "      padding: 0 0 0 0;\n",
              "      width: 32px;\n",
              "    }\n",
              "\n",
              "    .colab-df-convert:hover {\n",
              "      background-color: #E2EBFA;\n",
              "      box-shadow: 0px 1px 2px rgba(60, 64, 67, 0.3), 0px 1px 3px 1px rgba(60, 64, 67, 0.15);\n",
              "      fill: #174EA6;\n",
              "    }\n",
              "\n",
              "    [theme=dark] .colab-df-convert {\n",
              "      background-color: #3B4455;\n",
              "      fill: #D2E3FC;\n",
              "    }\n",
              "\n",
              "    [theme=dark] .colab-df-convert:hover {\n",
              "      background-color: #434B5C;\n",
              "      box-shadow: 0px 1px 3px 1px rgba(0, 0, 0, 0.15);\n",
              "      filter: drop-shadow(0px 1px 2px rgba(0, 0, 0, 0.3));\n",
              "      fill: #FFFFFF;\n",
              "    }\n",
              "  </style>\n",
              "\n",
              "      <script>\n",
              "        const buttonEl =\n",
              "          document.querySelector('#df-8bde05df-3c54-453d-9f0b-6a579411d87d button.colab-df-convert');\n",
              "        buttonEl.style.display =\n",
              "          google.colab.kernel.accessAllowed ? 'block' : 'none';\n",
              "\n",
              "        async function convertToInteractive(key) {\n",
              "          const element = document.querySelector('#df-8bde05df-3c54-453d-9f0b-6a579411d87d');\n",
              "          const dataTable =\n",
              "            await google.colab.kernel.invokeFunction('convertToInteractive',\n",
              "                                                     [key], {});\n",
              "          if (!dataTable) return;\n",
              "\n",
              "          const docLinkHtml = 'Like what you see? Visit the ' +\n",
              "            '<a target=\"_blank\" href=https://colab.research.google.com/notebooks/data_table.ipynb>data table notebook</a>'\n",
              "            + ' to learn more about interactive tables.';\n",
              "          element.innerHTML = '';\n",
              "          dataTable['output_type'] = 'display_data';\n",
              "          await google.colab.output.renderOutput(dataTable, element);\n",
              "          const docLink = document.createElement('div');\n",
              "          docLink.innerHTML = docLinkHtml;\n",
              "          element.appendChild(docLink);\n",
              "        }\n",
              "      </script>\n",
              "    </div>\n",
              "  </div>\n",
              "  "
            ]
          },
          "metadata": {},
          "execution_count": 54
        }
      ]
    },
    {
      "cell_type": "markdown",
      "source": [
        "From statistical information of flights in July 2018:\n",
        "- Average departure delay time is 13.6 minutes, and the median is -2 (two mintutes earlier than planned). While median arrival delay is -13 minutes, which means that planes fly less time than scheduled initially.\n",
        "- 1.7% of flights in july were cancelled.\n",
        "- median flight distance is 646 miles while median air time is 93 minutes.\n",
        "- The cases that I thought are delayed (142,650 due to specific reasons) might not be delays at all. According to task, delay is if plane departed 15 mins later than planned. However in many cases"
      ],
      "metadata": {
        "id": "R2l-IHqZmuqF"
      }
    },
    {
      "cell_type": "code",
      "source": [
        "df.describe(include=['O'])"
      ],
      "metadata": {
        "colab": {
          "base_uri": "https://localhost:8080/",
          "height": 175
        },
        "id": "CJ3QlOaMmiXe",
        "outputId": "aca2d852-bdec-47d8-c2d6-51f5b879decd"
      },
      "execution_count": 55,
      "outputs": [
        {
          "output_type": "execute_result",
          "data": {
            "text/plain": [
              "           FL_DATE OP_UNIQUE_CARRIER  ORIGIN    DEST CANCELLATION_CODE\n",
              "count       645299            645299  645299  645299             11083\n",
              "unique          31                17     349     349                 3\n",
              "top     2018-07-13                WN     ATL     ATL                 C\n",
              "freq         22022            120114   34745   34733              4204"
            ],
            "text/html": [
              "\n",
              "  <div id=\"df-ff92cf65-4d3d-447e-9bb0-b38c12efc5b5\">\n",
              "    <div class=\"colab-df-container\">\n",
              "      <div>\n",
              "<style scoped>\n",
              "    .dataframe tbody tr th:only-of-type {\n",
              "        vertical-align: middle;\n",
              "    }\n",
              "\n",
              "    .dataframe tbody tr th {\n",
              "        vertical-align: top;\n",
              "    }\n",
              "\n",
              "    .dataframe thead th {\n",
              "        text-align: right;\n",
              "    }\n",
              "</style>\n",
              "<table border=\"1\" class=\"dataframe\">\n",
              "  <thead>\n",
              "    <tr style=\"text-align: right;\">\n",
              "      <th></th>\n",
              "      <th>FL_DATE</th>\n",
              "      <th>OP_UNIQUE_CARRIER</th>\n",
              "      <th>ORIGIN</th>\n",
              "      <th>DEST</th>\n",
              "      <th>CANCELLATION_CODE</th>\n",
              "    </tr>\n",
              "  </thead>\n",
              "  <tbody>\n",
              "    <tr>\n",
              "      <th>count</th>\n",
              "      <td>645299</td>\n",
              "      <td>645299</td>\n",
              "      <td>645299</td>\n",
              "      <td>645299</td>\n",
              "      <td>11083</td>\n",
              "    </tr>\n",
              "    <tr>\n",
              "      <th>unique</th>\n",
              "      <td>31</td>\n",
              "      <td>17</td>\n",
              "      <td>349</td>\n",
              "      <td>349</td>\n",
              "      <td>3</td>\n",
              "    </tr>\n",
              "    <tr>\n",
              "      <th>top</th>\n",
              "      <td>2018-07-13</td>\n",
              "      <td>WN</td>\n",
              "      <td>ATL</td>\n",
              "      <td>ATL</td>\n",
              "      <td>C</td>\n",
              "    </tr>\n",
              "    <tr>\n",
              "      <th>freq</th>\n",
              "      <td>22022</td>\n",
              "      <td>120114</td>\n",
              "      <td>34745</td>\n",
              "      <td>34733</td>\n",
              "      <td>4204</td>\n",
              "    </tr>\n",
              "  </tbody>\n",
              "</table>\n",
              "</div>\n",
              "      <button class=\"colab-df-convert\" onclick=\"convertToInteractive('df-ff92cf65-4d3d-447e-9bb0-b38c12efc5b5')\"\n",
              "              title=\"Convert this dataframe to an interactive table.\"\n",
              "              style=\"display:none;\">\n",
              "        \n",
              "  <svg xmlns=\"http://www.w3.org/2000/svg\" height=\"24px\"viewBox=\"0 0 24 24\"\n",
              "       width=\"24px\">\n",
              "    <path d=\"M0 0h24v24H0V0z\" fill=\"none\"/>\n",
              "    <path d=\"M18.56 5.44l.94 2.06.94-2.06 2.06-.94-2.06-.94-.94-2.06-.94 2.06-2.06.94zm-11 1L8.5 8.5l.94-2.06 2.06-.94-2.06-.94L8.5 2.5l-.94 2.06-2.06.94zm10 10l.94 2.06.94-2.06 2.06-.94-2.06-.94-.94-2.06-.94 2.06-2.06.94z\"/><path d=\"M17.41 7.96l-1.37-1.37c-.4-.4-.92-.59-1.43-.59-.52 0-1.04.2-1.43.59L10.3 9.45l-7.72 7.72c-.78.78-.78 2.05 0 2.83L4 21.41c.39.39.9.59 1.41.59.51 0 1.02-.2 1.41-.59l7.78-7.78 2.81-2.81c.8-.78.8-2.07 0-2.86zM5.41 20L4 18.59l7.72-7.72 1.47 1.35L5.41 20z\"/>\n",
              "  </svg>\n",
              "      </button>\n",
              "      \n",
              "  <style>\n",
              "    .colab-df-container {\n",
              "      display:flex;\n",
              "      flex-wrap:wrap;\n",
              "      gap: 12px;\n",
              "    }\n",
              "\n",
              "    .colab-df-convert {\n",
              "      background-color: #E8F0FE;\n",
              "      border: none;\n",
              "      border-radius: 50%;\n",
              "      cursor: pointer;\n",
              "      display: none;\n",
              "      fill: #1967D2;\n",
              "      height: 32px;\n",
              "      padding: 0 0 0 0;\n",
              "      width: 32px;\n",
              "    }\n",
              "\n",
              "    .colab-df-convert:hover {\n",
              "      background-color: #E2EBFA;\n",
              "      box-shadow: 0px 1px 2px rgba(60, 64, 67, 0.3), 0px 1px 3px 1px rgba(60, 64, 67, 0.15);\n",
              "      fill: #174EA6;\n",
              "    }\n",
              "\n",
              "    [theme=dark] .colab-df-convert {\n",
              "      background-color: #3B4455;\n",
              "      fill: #D2E3FC;\n",
              "    }\n",
              "\n",
              "    [theme=dark] .colab-df-convert:hover {\n",
              "      background-color: #434B5C;\n",
              "      box-shadow: 0px 1px 3px 1px rgba(0, 0, 0, 0.15);\n",
              "      filter: drop-shadow(0px 1px 2px rgba(0, 0, 0, 0.3));\n",
              "      fill: #FFFFFF;\n",
              "    }\n",
              "  </style>\n",
              "\n",
              "      <script>\n",
              "        const buttonEl =\n",
              "          document.querySelector('#df-ff92cf65-4d3d-447e-9bb0-b38c12efc5b5 button.colab-df-convert');\n",
              "        buttonEl.style.display =\n",
              "          google.colab.kernel.accessAllowed ? 'block' : 'none';\n",
              "\n",
              "        async function convertToInteractive(key) {\n",
              "          const element = document.querySelector('#df-ff92cf65-4d3d-447e-9bb0-b38c12efc5b5');\n",
              "          const dataTable =\n",
              "            await google.colab.kernel.invokeFunction('convertToInteractive',\n",
              "                                                     [key], {});\n",
              "          if (!dataTable) return;\n",
              "\n",
              "          const docLinkHtml = 'Like what you see? Visit the ' +\n",
              "            '<a target=\"_blank\" href=https://colab.research.google.com/notebooks/data_table.ipynb>data table notebook</a>'\n",
              "            + ' to learn more about interactive tables.';\n",
              "          element.innerHTML = '';\n",
              "          dataTable['output_type'] = 'display_data';\n",
              "          await google.colab.output.renderOutput(dataTable, element);\n",
              "          const docLink = document.createElement('div');\n",
              "          docLink.innerHTML = docLinkHtml;\n",
              "          element.appendChild(docLink);\n",
              "        }\n",
              "      </script>\n",
              "    </div>\n",
              "  </div>\n",
              "  "
            ]
          },
          "metadata": {},
          "execution_count": 55
        }
      ]
    },
    {
      "cell_type": "markdown",
      "source": [
        "Provided data is for 17 airlines and 349 airports. Southwest is the most flying airline and Atlanta is the airport with most incoming and outgoing flights.  \n",
        "Also the last column `Unnamed: 22` looks useless, so I check which values it contains."
      ],
      "metadata": {
        "id": "NlQpnMhIDRS7"
      }
    },
    {
      "cell_type": "code",
      "source": [
        "# Check last column, looks useless\n",
        "df['Unnamed: 22'].unique()"
      ],
      "metadata": {
        "colab": {
          "base_uri": "https://localhost:8080/"
        },
        "id": "3aexY8KFll7A",
        "outputId": "83ea82f4-8886-4637-85b5-853dc6d2b677"
      },
      "execution_count": 56,
      "outputs": [
        {
          "output_type": "execute_result",
          "data": {
            "text/plain": [
              "array([nan])"
            ]
          },
          "metadata": {},
          "execution_count": 56
        }
      ]
    },
    {
      "cell_type": "markdown",
      "source": [
        "## Loading the data"
      ],
      "metadata": {
        "id": "W2jyZdo5EEKQ"
      }
    },
    {
      "cell_type": "code",
      "source": [
        "months = list(range(7,13)) + list(range(1,7))\n",
        "files = []\n",
        "for month in months:\n",
        "    if month < 7:\n",
        "      filename = f'{dataset_dir}/{month:02}_2019.csv'\n",
        "    else:\n",
        "      filename = f'{dataset_dir}/{month:02}_2018.csv'\n",
        "    files.append(filename)\n",
        "\n",
        "train_df = pd.concat((pd.read_csv(filename) for filename in files), ignore_index= True)\n",
        "\n",
        "test_files = [f'{dataset_dir}/07_2019.csv', f'{dataset_dir}/08_2019.csv']\n",
        "\n",
        "test_df = pd.concat((pd.read_csv(filename) for filename in test_files))"
      ],
      "metadata": {
        "id": "3j4mMxB6mGEp"
      },
      "execution_count": 57,
      "outputs": []
    },
    {
      "cell_type": "code",
      "source": [
        "train_df.head(), train_df.shape"
      ],
      "metadata": {
        "colab": {
          "base_uri": "https://localhost:8080/"
        },
        "id": "Ie7zubkVF6Zx",
        "outputId": "e829682d-519f-4150-ec5e-60010deec7c0"
      },
      "execution_count": 58,
      "outputs": [
        {
          "output_type": "execute_result",
          "data": {
            "text/plain": [
              "(      FL_DATE OP_UNIQUE_CARRIER  OP_CARRIER_FL_NUM ORIGIN DEST  CRS_DEP_TIME  \\\n",
              " 0  2018-07-01                YV               5867    BOI  PHX          1135   \n",
              " 1  2018-07-01                YV               5867    PHX  BOI           745   \n",
              " 2  2018-07-01                YV               5868    PHX  AMA          1845   \n",
              " 3  2018-07-01                YV               5869    AMA  PHX           914   \n",
              " 4  2018-07-01                YV               5870    PHX  TUS          2005   \n",
              " \n",
              "    DEP_TIME  DEP_DELAY  CRS_ARR_TIME  ARR_TIME  ...  CRS_ELAPSED_TIME  \\\n",
              " 0    1134.0       -1.0          1243    1230.0  ...             128.0   \n",
              " 1     740.0       -5.0          1049    1050.0  ...             124.0   \n",
              " 2    1840.0       -5.0          2232    2214.0  ...             107.0   \n",
              " 3     859.0      -15.0           920     921.0  ...             126.0   \n",
              " 4    2004.0       -1.0          2048    2050.0  ...              43.0   \n",
              " \n",
              "    ACTUAL_ELAPSED_TIME AIR_TIME  DISTANCE  CARRIER_DELAY  WEATHER_DELAY  \\\n",
              " 0                116.0     99.0     735.0            NaN            NaN   \n",
              " 1                130.0    104.0     735.0            NaN            NaN   \n",
              " 2                 94.0     79.0     602.0            NaN            NaN   \n",
              " 3                142.0     85.0     602.0            NaN            NaN   \n",
              " 4                 46.0     28.0     110.0            NaN            NaN   \n",
              " \n",
              "    NAS_DELAY  SECURITY_DELAY  LATE_AIRCRAFT_DELAY  Unnamed: 22  \n",
              " 0        NaN             NaN                  NaN          NaN  \n",
              " 1        NaN             NaN                  NaN          NaN  \n",
              " 2        NaN             NaN                  NaN          NaN  \n",
              " 3        NaN             NaN                  NaN          NaN  \n",
              " 4        NaN             NaN                  NaN          NaN  \n",
              " \n",
              " [5 rows x 23 columns], (7395640, 23))"
            ]
          },
          "metadata": {},
          "execution_count": 58
        }
      ]
    },
    {
      "cell_type": "code",
      "source": [
        "print(f\"Delayed flights in training set: {(train_df['DEP_DELAY']>=15).sum()}\")\n",
        "print(f\"Delayed flights in test set: {(test_df['DEP_DELAY']>=15).sum()}\")"
      ],
      "metadata": {
        "colab": {
          "base_uri": "https://localhost:8080/"
        },
        "id": "cwxxv9woHOrY",
        "outputId": "250f5d97-89fe-4ccd-cf29-4167fe1ed7f1"
      },
      "execution_count": 59,
      "outputs": [
        {
          "output_type": "stream",
          "name": "stdout",
          "text": [
            "Delayed flights in training set: 1358361\n",
            "Delayed flights in test set: 267491\n"
          ]
        }
      ]
    },
    {
      "cell_type": "code",
      "source": [
        "train_df['Delay'] = train_df['DEP_DELAY'].apply(lambda x: 1 if x >= 15 else 0)\n",
        "test_df['Delay'] = test_df['DEP_DELAY'].apply(lambda x: 1 if x >= 15 else 0)\n",
        "\n",
        "print(f\"Target labels in training set: {train_df['Delay'].sum()}\")\n",
        "print(f\"Target labels in testing set: {test_df['Delay'].sum()}\")"
      ],
      "metadata": {
        "colab": {
          "base_uri": "https://localhost:8080/"
        },
        "id": "H976N8DMQ9SB",
        "outputId": "fc9048b4-e6c7-4477-e646-1676ad843d0d"
      },
      "execution_count": 60,
      "outputs": [
        {
          "output_type": "stream",
          "name": "stdout",
          "text": [
            "Target labels in training set: 1358361\n",
            "Target labels in testing set: 267491\n"
          ]
        }
      ]
    },
    {
      "cell_type": "markdown",
      "source": [
        "## EDA plans:\n",
        "- Most popular reason for delays\n",
        "Each airport: delays by -weekday; -month; -date; -type of delay\n",
        "- Airlines by % of delays, flights by % of delays, - Origin airport by % of delays\n",
        "- Airports can be grouped by states/zones"
      ],
      "metadata": {
        "id": "s1L3a5vtSzL2"
      }
    },
    {
      "cell_type": "code",
      "source": [
        "def populateDates(df):\n",
        "  df['FL_DATE'] = df['FL_DATE'].astype('datetime64')\n",
        "  df['Day'] = df['FL_DATE'].dt.day\n",
        "  df['Month'] = df['FL_DATE'].dt.month\n",
        "  df['Weekday'] = df['FL_DATE'].dt.weekday\n",
        "\n",
        "populateDates(train_df)\n",
        "populateDates(test_df)"
      ],
      "metadata": {
        "id": "B6BgZV-iRNlt"
      },
      "execution_count": 61,
      "outputs": []
    },
    {
      "cell_type": "code",
      "source": [
        "g = sns.FacetGrid(train_df, col = 'Delay')\n",
        "g.map(plt.hist, 'Month', alpha = 0.5, bins = 12, density = True)"
      ],
      "metadata": {
        "id": "fCfnm_BsiFjX"
      },
      "execution_count": 62,
      "outputs": []
    },
    {
      "cell_type": "markdown",
      "source": [
        "Seems like my dataframe misses some monthes, so I check missing monthes files. From the chart above it is clear that there are more delays in June. "
      ],
      "metadata": {
        "id": "JUmt8B5pk-MA"
      }
    },
    {
      "cell_type": "code",
      "source": [
        "# There are only July, August, October, January, April and June\n",
        "train_df['Month'].unique()"
      ],
      "metadata": {
        "colab": {
          "base_uri": "https://localhost:8080/"
        },
        "id": "6KBX-K1ElAhm",
        "outputId": "f39356dd-c8a6-4de2-d345-1aadcbc1209a"
      },
      "execution_count": 63,
      "outputs": [
        {
          "output_type": "execute_result",
          "data": {
            "text/plain": [
              "array([ 7,  8, 10,  1,  4,  6])"
            ]
          },
          "metadata": {},
          "execution_count": 63
        }
      ]
    },
    {
      "cell_type": "code",
      "source": [
        "df1= pd.read_csv('../content/drive/MyDrive/flyr_dataset/01_2019.csv')\n",
        "df2= pd.read_csv('../content/drive/MyDrive/flyr_dataset/02_2019.csv')\n",
        "df3= pd.read_csv('../content/drive/MyDrive/flyr_dataset/03_2019.csv')\n",
        "print(df1['FL_DATE'].unique())\n",
        "print(df2['FL_DATE'].unique())\n",
        "print(df3['FL_DATE'].unique())\n",
        "del df1\n",
        "del df2\n",
        "del df3"
      ],
      "metadata": {
        "colab": {
          "base_uri": "https://localhost:8080/"
        },
        "id": "1mN4nV90q0cJ",
        "outputId": "b015b4ab-6520-422a-cb9b-a83b542ab895"
      },
      "execution_count": 64,
      "outputs": [
        {
          "output_type": "stream",
          "name": "stdout",
          "text": [
            "['2019-01-01' '2019-01-02' '2019-01-03' '2019-01-04' '2019-01-05'\n",
            " '2019-01-06' '2019-01-07' '2019-01-08' '2019-01-09' '2019-01-10'\n",
            " '2019-01-11' '2019-01-12' '2019-01-13' '2019-01-14' '2019-01-15'\n",
            " '2019-01-16' '2019-01-17' '2019-01-18' '2019-01-19' '2019-01-20'\n",
            " '2019-01-21' '2019-01-22' '2019-01-23' '2019-01-24' '2019-01-25'\n",
            " '2019-01-26' '2019-01-27' '2019-01-28' '2019-01-29' '2019-01-30'\n",
            " '2019-01-31']\n",
            "['2019-01-01' '2019-01-02' '2019-01-03' '2019-01-04' '2019-01-05'\n",
            " '2019-01-06' '2019-01-07' '2019-01-08' '2019-01-09' '2019-01-10'\n",
            " '2019-01-11' '2019-01-12' '2019-01-13' '2019-01-14' '2019-01-15'\n",
            " '2019-01-16' '2019-01-17' '2019-01-18' '2019-01-19' '2019-01-20'\n",
            " '2019-01-21' '2019-01-22' '2019-01-23' '2019-01-24' '2019-01-25'\n",
            " '2019-01-26' '2019-01-27' '2019-01-28' '2019-01-29' '2019-01-30'\n",
            " '2019-01-31']\n",
            "['2019-01-01' '2019-01-02' '2019-01-03' '2019-01-04' '2019-01-05'\n",
            " '2019-01-06' '2019-01-07' '2019-01-08' '2019-01-09' '2019-01-10'\n",
            " '2019-01-11' '2019-01-12' '2019-01-13' '2019-01-14' '2019-01-15'\n",
            " '2019-01-16' '2019-01-17' '2019-01-18' '2019-01-19' '2019-01-20'\n",
            " '2019-01-21' '2019-01-22' '2019-01-23' '2019-01-24' '2019-01-25'\n",
            " '2019-01-26' '2019-01-27' '2019-01-28' '2019-01-29' '2019-01-30'\n",
            " '2019-01-31']\n"
          ]
        }
      ]
    },
    {
      "cell_type": "markdown",
      "source": [
        "It seems like some datasets are just copies of others, and by loading them I am just duplicating data. Now I need to drop duplicate data."
      ],
      "metadata": {
        "id": "GmEPs62brcE6"
      }
    },
    {
      "cell_type": "code",
      "source": [
        "print(f'Shape before dropping duplicates: {train_df.shape}')\n",
        "train_df.drop_duplicates(inplace = True)\n",
        "print(f'Shape after dropping duplicates: {train_df.shape}')"
      ],
      "metadata": {
        "colab": {
          "base_uri": "https://localhost:8080/"
        },
        "id": "_qmv4yfttETE",
        "outputId": "2be4d9d2-d91e-4d4e-9791-bb727f7b70ee"
      },
      "execution_count": 65,
      "outputs": [
        {
          "output_type": "stream",
          "name": "stdout",
          "text": [
            "Shape before dropping duplicates: (7395640, 27)\n",
            "Shape after dropping duplicates: (3738772, 27)\n"
          ]
        }
      ]
    },
    {
      "cell_type": "code",
      "source": [
        "g = sns.FacetGrid(train_df, col = 'Delay')\n",
        "g.map(plt.hist, 'Weekday', alpha = 0.5, bins = 7, density = True)"
      ],
      "metadata": {
        "id": "ocVVazXUYNmC"
      },
      "execution_count": 66,
      "outputs": []
    },
    {
      "cell_type": "markdown",
      "source": [
        "From histograms above I wanted to find an effect of the weekday on probablity of delay happening. It is clear that likelihood of delay happening on Monday and Friday is higher as well as on Saturday it is lower. (0 - Monday, 6 - Sunday).  \n",
        "\n",
        "\n",
        "Next I wanna check rate of delayed flights by airlines."
      ],
      "metadata": {
        "id": "H4iFY8fcf2_j"
      }
    },
    {
      "cell_type": "code",
      "source": [
        "def aggregateAndPlot(parameter, textForPlot):\n",
        "  airlines = train_df[parameter].unique()\n",
        "\n",
        "  l = []\n",
        "  for airline in airlines:\n",
        "      l.append(train_df[train_df[parameter]== airline]['Delay'].value_counts(normalize = True))\n",
        "\n",
        "  airlines_df = pd.DataFrame(l, index = airlines).round(4)\n",
        "  del l\n",
        "  \n",
        "  airlines_df.sort_index(inplace = True)\n",
        "  airlines_df.plot(kind = 'bar', stacked = True, figsize = [15,6])\n",
        "  plt.legend(labels = ['Intime', 'Delayed'],loc = 4)\n",
        "  y_dist = train_df['Delay'].value_counts()\n",
        "  y_line = y_dist[0]/y_dist.sum()\n",
        "  plt.axhline(y=y_line, color = 'k')\n",
        "  plt.text(x = -0.25, y = 0.85, s = f'Average rate of delays by all {textForPlot}: {y_line.round(4)}')\n",
        "  plt.show()\n",
        "\n",
        "aggregateAndPlot('OP_UNIQUE_CARRIER', 'airlines')"
      ],
      "metadata": {
        "colab": {
          "base_uri": "https://localhost:8080/",
          "height": 381
        },
        "id": "Tct8sX3YtN76",
        "outputId": "61fb9c9f-2f99-4e69-8ec3-8296f2251f5d"
      },
      "execution_count": 67,
      "outputs": [
        {
          "output_type": "display_data",
          "data": {
            "text/plain": [
              "<Figure size 1080x432 with 1 Axes>"
            ],
            "image/png": "[encoded data removed]"
          },
          "metadata": {
            "needs_background": "light"
          }
        }
      ]
    },
    {
      "cell_type": "markdown",
      "source": [
        "Chart above indicates that delay rate varies from airline to airline and it should be taken into account.\n",
        "\n",
        "Will try same to airports (origin)..."
      ],
      "metadata": {
        "id": "BCoKaK_80J8b"
      }
    },
    {
      "cell_type": "code",
      "source": [
        "aggregateAndPlot('ORIGIN', 'airports')"
      ],
      "metadata": {
        "id": "dEtKcXA4tN1-"
      },
      "execution_count": 68,
      "outputs": []
    },
    {
      "cell_type": "markdown",
      "source": [
        "Even if it is crowded and difficult to see, it is clear that rate of delays heavily depends on airport of origin.\n",
        "\n",
        "Another thing to check if delay depends on time of the day flight happens."
      ],
      "metadata": {
        "id": "BeC9ZQbG2KrM"
      }
    },
    {
      "cell_type": "code",
      "source": [
        "train_df['Dep_Hour'] = train_df['CRS_DEP_TIME'].apply(lambda x: x//100)\n",
        "print(sorted(train_df['Dep_Hour'].unique()))\n",
        "aggregateAndPlot('Dep_Hour', 'time of day')"
      ],
      "metadata": {
        "colab": {
          "base_uri": "https://localhost:8080/",
          "height": 394
        },
        "id": "_Nma49aj3BXi",
        "outputId": "8390af65-4cb5-40b4-af68-f550cb81fe72"
      },
      "execution_count": 69,
      "outputs": [
        {
          "output_type": "stream",
          "name": "stdout",
          "text": [
            "[0, 1, 2, 3, 4, 5, 6, 7, 8, 9, 10, 11, 12, 13, 14, 15, 16, 17, 18, 19, 20, 21, 22, 23]\n"
          ]
        },
        {
          "output_type": "display_data",
          "data": {
            "text/plain": [
              "<Figure size 1080x432 with 1 Axes>"
            ],
            "image/png": "[encoded data removed]"
          },
          "metadata": {
            "needs_background": "light"
          }
        }
      ]
    },
    {
      "cell_type": "markdown",
      "source": [
        "Chart above indicates that more evening flights get delayed compared to morning flights. It is surprising for me as I would have expected that morning flights are delayed more.\n",
        "\n",
        "And the last parameter I would like to check is the distance of flight. I believe that distance is related to `AIR_TIME` and `ELAPSED_TIMES` so they can be used interchangebly for the model."
      ],
      "metadata": {
        "id": "eSagVHU25z4b"
      }
    },
    {
      "cell_type": "code",
      "source": [
        "train_df['Dist'] = train_df['DISTANCE'].apply(lambda x: x//100)\n",
        "print(sorted(train_df['Dist'].unique()))"
      ],
      "metadata": {
        "colab": {
          "base_uri": "https://localhost:8080/"
        },
        "id": "J7dHmR8S7Moo",
        "outputId": "25c62ee2-0433-4428-e974-a091388360c4"
      },
      "execution_count": 70,
      "outputs": [
        {
          "output_type": "stream",
          "name": "stdout",
          "text": [
            "[0.0, 1.0, 2.0, 3.0, 4.0, 5.0, 6.0, 7.0, 8.0, 9.0, 10.0, 11.0, 12.0, 13.0, 14.0, 15.0, 16.0, 17.0, 18.0, 19.0, 20.0, 21.0, 22.0, 23.0, 24.0, 25.0, 26.0, 27.0, 28.0, 29.0, 30.0, 32.0, 33.0, 34.0, 37.0, 38.0, 39.0, 41.0, 42.0, 44.0, 45.0, 48.0, 49.0, 50.0]\n"
          ]
        }
      ]
    },
    {
      "cell_type": "code",
      "source": [
        "aggregateAndPlot('Dist', 'distances')"
      ],
      "metadata": {
        "id": "DOYlo5vP3BLI"
      },
      "execution_count": 71,
      "outputs": []
    },
    {
      "cell_type": "markdown",
      "source": [
        "Flight distance affects the rate of delays, so it should be in the training data.\n",
        "\n",
        "Next I build correlation heatmap. I should have done it first, however even now it can help to understand the data."
      ],
      "metadata": {
        "id": "kZGnGrVw9zg-"
      }
    },
    {
      "cell_type": "code",
      "source": [
        "plt.figure(figsize = [12,12])\n",
        "sns.heatmap(train_df.corr(), cmap='coolwarm', vmin = -1, vmax = 1)"
      ],
      "metadata": {
        "colab": {
          "base_uri": "https://localhost:8080/",
          "height": 829
        },
        "id": "Uvsr0vo0tNsG",
        "outputId": "7ca3a810-2ae0-499f-e331-24c21955982f"
      },
      "execution_count": 72,
      "outputs": [
        {
          "output_type": "execute_result",
          "data": {
            "text/plain": [
              "<matplotlib.axes._subplots.AxesSubplot at 0x7f72e9a55a90>"
            ]
          },
          "metadata": {},
          "execution_count": 72
        },
        {
          "output_type": "display_data",
          "data": {
            "text/plain": [
              "<Figure size 864x864 with 2 Axes>"
            ],
            "image/png": "[encoded data removed]"
          },
          "metadata": {
            "needs_background": "light"
          }
        }
      ]
    },
    {
      "cell_type": "markdown",
      "source": [
        "There is a correlation between distance/airtime/elapsed_time group and airline. I think it might be due to the fact that different airlines target different types of flights. Large airlines fly long distances, while smaller airlines fly only short distance flights.  \n",
        "Another group is departure times, which are correlated to arrival times group. It is normal that they are correlated as arrivel depends on departure.\n",
        "Departure delay is correlated to types of delays, as ther is a delay the reason for it is given.\n",
        "And the last group that is interrelated is a distance, airtime and elapsed time.\n",
        "\n",
        "\n",
        "As a result of EDA and other observations, I decided that important information is contained in:\n",
        "- airline\n",
        "- flight number\n",
        "- departure time\n",
        "- arrival time\n",
        "- flight date (day/ month/ weekday)\n",
        "- distance\n",
        "\n",
        "## Data cleaning and feature engineering\n",
        "First of all I delete cancelled flights data, and other unnecessary flight information.\n",
        "\n",
        "\n"
      ],
      "metadata": {
        "id": "i6rsCFqc-QzQ"
      }
    },
    {
      "cell_type": "code",
      "source": [
        "print(f'Shapes before dropping flights, train: {train_df.shape}; test: {test_df.shape};')\n",
        "train_df.drop(train_df[train_df['CANCELLED']==1].index, inplace = True)\n",
        "test_df.drop(test_df[test_df['CANCELLED']==1].index, inplace = True)\n",
        "print(f'Shapes after dropping flights, train: {train_df.shape}; test: {test_df.shape};')"
      ],
      "metadata": {
        "colab": {
          "base_uri": "https://localhost:8080/"
        },
        "id": "B4U0ZNMNo3Ga",
        "outputId": "720481bb-e095-486f-fbc5-704473944e68"
      },
      "execution_count": 73,
      "outputs": [
        {
          "output_type": "stream",
          "name": "stdout",
          "text": [
            "Shapes before dropping flights, train: (3738772, 29); test: (1317490, 27);\n",
            "Shapes after dropping flights, train: (3666410, 29); test: (1269523, 27);\n"
          ]
        }
      ]
    },
    {
      "cell_type": "code",
      "source": [
        "# Create departure hour and disnance columns in test set as in training set\n",
        "test_df['Dep_Hour'] = test_df['CRS_DEP_TIME'].apply(lambda x: x//100)\n",
        "test_df['Dist'] = test_df['DISTANCE'].apply(lambda x: x//100)"
      ],
      "metadata": {
        "id": "y55Ja4LxKRgt"
      },
      "execution_count": 74,
      "outputs": []
    },
    {
      "cell_type": "code",
      "source": [
        "# Before feeding model feature engineered data, I want to try give it raw data.\n",
        "# So, I will have two sets\n",
        "raw_train_df = train_df.copy()\n",
        "raw_test_df = test_df.copy()"
      ],
      "metadata": {
        "id": "SGJqm2KpKRE-"
      },
      "execution_count": 75,
      "outputs": []
    },
    {
      "cell_type": "code",
      "source": [
        "# Drop currently unnecessary columns\n",
        "raw_train_df.drop(['FL_DATE', 'DEP_TIME', 'DEP_DELAY','ARR_TIME','ARR_DELAY', 'CANCELLED', \n",
        "              'CANCELLATION_CODE','ACTUAL_ELAPSED_TIME', 'AIR_TIME','CARRIER_DELAY',\n",
        "              'WEATHER_DELAY', 'NAS_DELAY', 'SECURITY_DELAY', 'LATE_AIRCRAFT_DELAY',\n",
        "              'Unnamed: 22', 'Weekday', 'Dep_Hour', 'Dist'], axis = 1, inplace = True)\n",
        "\n",
        "raw_test_df.drop(['FL_DATE', 'DEP_TIME', 'DEP_DELAY','ARR_TIME','ARR_DELAY', 'CANCELLED', \n",
        "              'CANCELLATION_CODE','ACTUAL_ELAPSED_TIME', 'AIR_TIME','CARRIER_DELAY',\n",
        "              'WEATHER_DELAY', 'NAS_DELAY', 'SECURITY_DELAY', 'LATE_AIRCRAFT_DELAY',\n",
        "              'Unnamed: 22', 'Weekday', 'Dep_Hour', 'Dist'], axis = 1, inplace = True)\n",
        "\n",
        "# Use one hot method to replace Airline, origin and destination\n",
        "raw_train_df = pd.get_dummies(raw_train_df, columns = ['OP_UNIQUE_CARRIER'])\n",
        "raw_test_df = pd.get_dummies(raw_test_df, columns = ['OP_UNIQUE_CARRIER'])\n",
        "\n",
        "# Will use label encoder for destination and origin, as dataset gets too big otherwise\n",
        "from sklearn.preprocessing import LabelEncoder\n",
        "\n",
        "for col in ['ORIGIN', 'DEST']:\n",
        "  le = LabelEncoder()\n",
        "  le.fit(raw_train_df[col])\n",
        "  raw_train_df[col] = le.transform(raw_train_df[col])\n",
        "  raw_test_df[col] = le.transform(raw_test_df[col])"
      ],
      "metadata": {
        "id": "Vf-dTL4FIjY_"
      },
      "execution_count": 76,
      "outputs": []
    },
    {
      "cell_type": "code",
      "source": [
        "# First I create flight numbers for each airline and will make it categorical (there is no use of integer flight number)\n",
        "\n",
        "train_df['FlightNumber'] = train_df['OP_UNIQUE_CARRIER'] + '-' + train_df['OP_CARRIER_FL_NUM'].astype('str')\n",
        "test_df['FlightNumber'] = test_df['OP_UNIQUE_CARRIER'] + '-' + test_df['OP_CARRIER_FL_NUM'].astype('str')"
      ],
      "metadata": {
        "id": "UcMNwVVt9H2B"
      },
      "execution_count": 77,
      "outputs": []
    },
    {
      "cell_type": "code",
      "source": [
        "# when I tried to label encode flight numbers, I found out that there are new flights in test set that were not in training set\n",
        "# I will try to find out how many records belong to these new flights\n",
        "s1 = set(train_df['FlightNumber'].unique())\n",
        "s2 = set(test_df['FlightNumber'].unique())\n",
        "s3=s2-s1\n",
        "print(len(s3))"
      ],
      "metadata": {
        "colab": {
          "base_uri": "https://localhost:8080/"
        },
        "id": "09fGym_qLWDS",
        "outputId": "a7f1f39f-f543-407e-bb08-92f07e299628"
      },
      "execution_count": 92,
      "outputs": [
        {
          "output_type": "stream",
          "name": "stdout",
          "text": [
            "410\n"
          ]
        }
      ]
    },
    {
      "cell_type": "markdown",
      "source": [
        "There are 410 new flights in test set that are not in training set.\n"
      ],
      "metadata": {
        "id": "0J4Ukg7yQT4-"
      }
    },
    {
      "cell_type": "code",
      "source": [
        "test_df[test_df['FlightNumber'].isin(s3)].shape"
      ],
      "metadata": {
        "colab": {
          "base_uri": "https://localhost:8080/"
        },
        "id": "f6XB0NL-QUlO",
        "outputId": "5c39d525-56e9-4bab-a956-9ab2ae1e81b7"
      },
      "execution_count": 94,
      "outputs": [
        {
          "output_type": "execute_result",
          "data": {
            "text/plain": [
              "(4527, 30)"
            ]
          },
          "metadata": {},
          "execution_count": 94
        }
      ]
    },
    {
      "cell_type": "markdown",
      "source": [
        "4527 entries in test dataframe belong to these new flights. It is not that much so I think it's OK to drop them."
      ],
      "metadata": {
        "id": "wJTA8x0eQyP9"
      }
    },
    {
      "cell_type": "code",
      "source": [
        "test_df.loc[test_df['FlightNumber'].isin(s3),'FlightNumber']=np.nan\n",
        "test_df.dropna(subset=['FlightNumber'], inplace = True)"
      ],
      "metadata": {
        "id": "MgPx-C4eRMKD"
      },
      "execution_count": 110,
      "outputs": []
    },
    {
      "cell_type": "code",
      "source": [
        "# Next I drop columns that I think unnecessary\n",
        "\n",
        "train_df.drop(['FL_DATE', 'OP_CARRIER_FL_NUM','DEP_TIME', 'DEP_DELAY', 'CRS_ARR_TIME','ARR_TIME',\n",
        "               'ARR_DELAY', 'CANCELLED', 'CANCELLATION_CODE','ACTUAL_ELAPSED_TIME', 'AIR_TIME', \n",
        "               'DISTANCE', 'CARRIER_DELAY', 'WEATHER_DELAY', 'NAS_DELAY', 'SECURITY_DELAY',\n",
        "               'LATE_AIRCRAFT_DELAY', 'Unnamed: 22',], axis = 1, inplace = True)\n",
        "\n",
        "test_df.drop(['FL_DATE', 'OP_CARRIER_FL_NUM','DEP_TIME', 'DEP_DELAY', 'CRS_ARR_TIME','ARR_TIME',\n",
        "              'ARR_DELAY', 'CANCELLED', 'CANCELLATION_CODE','ACTUAL_ELAPSED_TIME', 'AIR_TIME', \n",
        "              'DISTANCE', 'CARRIER_DELAY', 'WEATHER_DELAY', 'NAS_DELAY', 'SECURITY_DELAY',\n",
        "              'LATE_AIRCRAFT_DELAY', 'Unnamed: 22',], axis = 1, inplace = True)"
      ],
      "metadata": {
        "id": "ZFsNtIm8DxFb"
      },
      "execution_count": 111,
      "outputs": []
    },
    {
      "cell_type": "code",
      "source": [
        "# To convert object typed data will use label encoder \n",
        "for col in train_df.columns:\n",
        "  if train_df[col].dtypes == 'object':\n",
        "    le = LabelEncoder()\n",
        "    le.fit(train_df[col])\n",
        "    train_df[col] = le.transform(train_df[col])\n",
        "    test_df[col] = le.transform(test_df[col])\n",
        "\n",
        "# train_df = pd.get_dummies(train_df, columns = ['OP_UNIQUE_CARRIER'])\n",
        "# test_df = pd.get_dummies(test_df, columns = ['OP_UNIQUE_CARRIER'])"
      ],
      "metadata": {
        "id": "59nYuROY9HyR"
      },
      "execution_count": 112,
      "outputs": []
    },
    {
      "cell_type": "markdown",
      "source": [
        "## Model\n",
        "I think for this data tree models will perform the best. As I am not planning to do hyperparameter tuning, I will only use test set and training set (no CV set)."
      ],
      "metadata": {
        "id": "_9wAD9djNrE0"
      }
    },
    {
      "cell_type": "code",
      "source": [
        "from sklearn.metrics import accuracy_score\n",
        "from sklearn.metrics import balanced_accuracy_score\n",
        "from sklearn.metrics import roc_auc_score\n",
        "from sklearn.metrics import precision_score\n",
        "from sklearn.metrics import recall_score\n",
        "from sklearn.metrics import f1_score\n",
        "from sklearn.neighbors import KNeighborsClassifier\n",
        "from sklearn.svm import SVC\n",
        "from sklearn.linear_model import LogisticRegression\n",
        "from sklearn.ensemble import RandomForestClassifier\n",
        "from sklearn.ensemble import GradientBoostingClassifier\n",
        "from sklearn.tree import ExtraTreeClassifier\n",
        "from sklearn.ensemble import BaggingClassifier\n",
        "from xgboost import XGBClassifier\n",
        "from lightgbm import LGBMClassifier\n",
        "\n",
        "models = [KNeighborsClassifier, LogisticRegression, RandomForestClassifier, GradientBoostingClassifier, \n",
        "          ExtraTreeClassifier, BaggingClassifier, XGBClassifier, LGBMClassifier]\n",
        "\n",
        "def run_classifier(X_train, X_test, y_train, y_test):\n",
        "    acc = []\n",
        "    bal_acc = []\n",
        "    f1_list = []\n",
        "    roc_auc = []\n",
        "    precision_yes = []\n",
        "    precision_no = []\n",
        "    recall_yes = []\n",
        "    recall_no = []\n",
        "    \n",
        "    # Loop to go through models\n",
        "    for model in models:\n",
        "        # Create classifier and fit to dataset\n",
        "        clf = model()\n",
        "        clf.fit(X_train, y_train)\n",
        "\n",
        "        y_pred = clf.predict(X_test)\n",
        "\n",
        "        acc.append(accuracy_score(y_test, y_pred))\n",
        "        bal_acc.append(balanced_accuracy_score(y_test, y_pred))\n",
        "        f1_list.append(f1_score(y_test, y_pred))\n",
        "        precision_yes.append(precision_score(y_test,y_pred, pos_label = 1))\n",
        "        precision_no.append(precision_score(y_test,y_pred, pos_label = 0))\n",
        "        recall_yes.append(recall_score(y_test,y_pred, pos_label = 1))\n",
        "        recall_no.append(recall_score(y_test,y_pred, pos_label = 0))\n",
        "\n",
        "        y_pred_prob = clf.predict_proba(X_test)[:,1]\n",
        "        roc_auc.append(roc_auc_score(y_test, y_pred_prob))\n",
        "\n",
        "    d = {'accuracy':XGBClassifier, 'balanced_accuracy':bal_acc, 'f1_score':f1_list, 'precision_yes':precision_yes, 'precision_no':precision_no, 'recall_yes':recall_yes, 'recall_no':recall_no, 'roc_auc':roc_auc}\n",
        "    df_mods = pd.DataFrame(d, index = map(str, models)).round(3)\n",
        "    return(df_mods)"
      ],
      "metadata": {
        "id": "rklcWGsSNFnN"
      },
      "execution_count": 114,
      "outputs": []
    },
    {
      "cell_type": "code",
      "source": [
        "X_train = raw_train_df.drop(['Delay'], axis = 1)\n",
        "y_train = raw_train_df['Delay']\n",
        "\n",
        "X_test = raw_test_df.drop(['Delay'], axis = 1)\n",
        "y_test = raw_test_df['Delay']"
      ],
      "metadata": {
        "id": "XZh0BbzrNFkO"
      },
      "execution_count": 119,
      "outputs": []
    },
    {
      "cell_type": "code",
      "source": [
        "models = [LGBMClassifier, XGBClassifier]\n",
        "\n",
        "result_df_raw = run_classifier(X_train, X_test, y_train, y_test)\n",
        "result_df_raw.head(15)"
      ],
      "metadata": {
        "colab": {
          "base_uri": "https://localhost:8080/",
          "height": 156
        },
        "id": "tPIPVewNNFht",
        "outputId": "c4bc1669-c5e0-4d0c-badd-527718fb5ce1"
      },
      "execution_count": 121,
      "outputs": [
        {
          "output_type": "execute_result",
          "data": {
            "text/plain": [
              "                                                                          accuracy  \\\n",
              "<class 'lightgbm.sklearn.LGBMClassifier'>  <class 'xgboost.sklearn.XGBClassifier'>   \n",
              "<class 'xgboost.sklearn.XGBClassifier'>    <class 'xgboost.sklearn.XGBClassifier'>   \n",
              "\n",
              "                                           balanced_accuracy  f1_score  \\\n",
              "<class 'lightgbm.sklearn.LGBMClassifier'>              0.518     0.091   \n",
              "<class 'xgboost.sklearn.XGBClassifier'>                0.500     0.000   \n",
              "\n",
              "                                           precision_yes  precision_no  \\\n",
              "<class 'lightgbm.sklearn.LGBMClassifier'>          0.482         0.800   \n",
              "<class 'xgboost.sklearn.XGBClassifier'>            0.789         0.794   \n",
              "\n",
              "                                           recall_yes  recall_no  roc_auc  \n",
              "<class 'lightgbm.sklearn.LGBMClassifier'>       0.051      0.986    0.685  \n",
              "<class 'xgboost.sklearn.XGBClassifier'>         0.000      1.000    0.680  "
            ],
            "text/html": [
              "\n",
              "  <div id=\"df-ff6e8f32-9e02-4c8a-9b6a-773d0fbe9f6b\">\n",
              "    <div class=\"colab-df-container\">\n",
              "      <div>\n",
              "<style scoped>\n",
              "    .dataframe tbody tr th:only-of-type {\n",
              "        vertical-align: middle;\n",
              "    }\n",
              "\n",
              "    .dataframe tbody tr th {\n",
              "        vertical-align: top;\n",
              "    }\n",
              "\n",
              "    .dataframe thead th {\n",
              "        text-align: right;\n",
              "    }\n",
              "</style>\n",
              "<table border=\"1\" class=\"dataframe\">\n",
              "  <thead>\n",
              "    <tr style=\"text-align: right;\">\n",
              "      <th></th>\n",
              "      <th>accuracy</th>\n",
              "      <th>balanced_accuracy</th>\n",
              "      <th>f1_score</th>\n",
              "      <th>precision_yes</th>\n",
              "      <th>precision_no</th>\n",
              "      <th>recall_yes</th>\n",
              "      <th>recall_no</th>\n",
              "      <th>roc_auc</th>\n",
              "    </tr>\n",
              "  </thead>\n",
              "  <tbody>\n",
              "    <tr>\n",
              "      <th>&lt;class 'lightgbm.sklearn.LGBMClassifier'&gt;</th>\n",
              "      <td>&lt;class 'xgboost.sklearn.XGBClassifier'&gt;</td>\n",
              "      <td>0.518</td>\n",
              "      <td>0.091</td>\n",
              "      <td>0.482</td>\n",
              "      <td>0.800</td>\n",
              "      <td>0.051</td>\n",
              "      <td>0.986</td>\n",
              "      <td>0.685</td>\n",
              "    </tr>\n",
              "    <tr>\n",
              "      <th>&lt;class 'xgboost.sklearn.XGBClassifier'&gt;</th>\n",
              "      <td>&lt;class 'xgboost.sklearn.XGBClassifier'&gt;</td>\n",
              "      <td>0.500</td>\n",
              "      <td>0.000</td>\n",
              "      <td>0.789</td>\n",
              "      <td>0.794</td>\n",
              "      <td>0.000</td>\n",
              "      <td>1.000</td>\n",
              "      <td>0.680</td>\n",
              "    </tr>\n",
              "  </tbody>\n",
              "</table>\n",
              "</div>\n",
              "      <button class=\"colab-df-convert\" onclick=\"convertToInteractive('df-ff6e8f32-9e02-4c8a-9b6a-773d0fbe9f6b')\"\n",
              "              title=\"Convert this dataframe to an interactive table.\"\n",
              "              style=\"display:none;\">\n",
              "        \n",
              "  <svg xmlns=\"http://www.w3.org/2000/svg\" height=\"24px\"viewBox=\"0 0 24 24\"\n",
              "       width=\"24px\">\n",
              "    <path d=\"M0 0h24v24H0V0z\" fill=\"none\"/>\n",
              "    <path d=\"M18.56 5.44l.94 2.06.94-2.06 2.06-.94-2.06-.94-.94-2.06-.94 2.06-2.06.94zm-11 1L8.5 8.5l.94-2.06 2.06-.94-2.06-.94L8.5 2.5l-.94 2.06-2.06.94zm10 10l.94 2.06.94-2.06 2.06-.94-2.06-.94-.94-2.06-.94 2.06-2.06.94z\"/><path d=\"M17.41 7.96l-1.37-1.37c-.4-.4-.92-.59-1.43-.59-.52 0-1.04.2-1.43.59L10.3 9.45l-7.72 7.72c-.78.78-.78 2.05 0 2.83L4 21.41c.39.39.9.59 1.41.59.51 0 1.02-.2 1.41-.59l7.78-7.78 2.81-2.81c.8-.78.8-2.07 0-2.86zM5.41 20L4 18.59l7.72-7.72 1.47 1.35L5.41 20z\"/>\n",
              "  </svg>\n",
              "      </button>\n",
              "      \n",
              "  <style>\n",
              "    .colab-df-container {\n",
              "      display:flex;\n",
              "      flex-wrap:wrap;\n",
              "      gap: 12px;\n",
              "    }\n",
              "\n",
              "    .colab-df-convert {\n",
              "      background-color: #E8F0FE;\n",
              "      border: none;\n",
              "      border-radius: 50%;\n",
              "      cursor: pointer;\n",
              "      display: none;\n",
              "      fill: #1967D2;\n",
              "      height: 32px;\n",
              "      padding: 0 0 0 0;\n",
              "      width: 32px;\n",
              "    }\n",
              "\n",
              "    .colab-df-convert:hover {\n",
              "      background-color: #E2EBFA;\n",
              "      box-shadow: 0px 1px 2px rgba(60, 64, 67, 0.3), 0px 1px 3px 1px rgba(60, 64, 67, 0.15);\n",
              "      fill: #174EA6;\n",
              "    }\n",
              "\n",
              "    [theme=dark] .colab-df-convert {\n",
              "      background-color: #3B4455;\n",
              "      fill: #D2E3FC;\n",
              "    }\n",
              "\n",
              "    [theme=dark] .colab-df-convert:hover {\n",
              "      background-color: #434B5C;\n",
              "      box-shadow: 0px 1px 3px 1px rgba(0, 0, 0, 0.15);\n",
              "      filter: drop-shadow(0px 1px 2px rgba(0, 0, 0, 0.3));\n",
              "      fill: #FFFFFF;\n",
              "    }\n",
              "  </style>\n",
              "\n",
              "      <script>\n",
              "        const buttonEl =\n",
              "          document.querySelector('#df-ff6e8f32-9e02-4c8a-9b6a-773d0fbe9f6b button.colab-df-convert');\n",
              "        buttonEl.style.display =\n",
              "          google.colab.kernel.accessAllowed ? 'block' : 'none';\n",
              "\n",
              "        async function convertToInteractive(key) {\n",
              "          const element = document.querySelector('#df-ff6e8f32-9e02-4c8a-9b6a-773d0fbe9f6b');\n",
              "          const dataTable =\n",
              "            await google.colab.kernel.invokeFunction('convertToInteractive',\n",
              "                                                     [key], {});\n",
              "          if (!dataTable) return;\n",
              "\n",
              "          const docLinkHtml = 'Like what you see? Visit the ' +\n",
              "            '<a target=\"_blank\" href=https://colab.research.google.com/notebooks/data_table.ipynb>data table notebook</a>'\n",
              "            + ' to learn more about interactive tables.';\n",
              "          element.innerHTML = '';\n",
              "          dataTable['output_type'] = 'display_data';\n",
              "          await google.colab.output.renderOutput(dataTable, element);\n",
              "          const docLink = document.createElement('div');\n",
              "          docLink.innerHTML = docLinkHtml;\n",
              "          element.appendChild(docLink);\n",
              "        }\n",
              "      </script>\n",
              "    </div>\n",
              "  </div>\n",
              "  "
            ]
          },
          "metadata": {},
          "execution_count": 121
        }
      ]
    },
    {
      "cell_type": "code",
      "source": [
        "X_train = train_df.drop(['Delay'], axis = 1)\n",
        "y_train = train_df['Delay']\n",
        "\n",
        "X_test = test_df.drop(['Delay'], axis = 1)\n",
        "y_test = test_df['Delay']"
      ],
      "metadata": {
        "id": "169M62ZXK19A"
      },
      "execution_count": 115,
      "outputs": []
    },
    {
      "cell_type": "code",
      "source": [
        "models = [LGBMClassifier, XGBClassifier]\n",
        "\n",
        "result_df_raw = run_classifier(X_train, X_test, y_train, y_test)\n",
        "result_df_raw.head(15)"
      ],
      "metadata": {
        "colab": {
          "base_uri": "https://localhost:8080/",
          "height": 211
        },
        "id": "ckbQac72UPcz",
        "outputId": "2c2bfc01-4aef-4e0c-e71f-923c762dad2a"
      },
      "execution_count": 118,
      "outputs": [
        {
          "output_type": "stream",
          "name": "stderr",
          "text": [
            "/usr/local/lib/python3.7/dist-packages/sklearn/metrics/_classification.py:1318: UndefinedMetricWarning: Precision is ill-defined and being set to 0.0 due to no predicted samples. Use `zero_division` parameter to control this behavior.\n",
            "  _warn_prf(average, modifier, msg_start, len(result))\n"
          ]
        },
        {
          "output_type": "execute_result",
          "data": {
            "text/plain": [
              "                                                                          accuracy  \\\n",
              "<class 'lightgbm.sklearn.LGBMClassifier'>  <class 'xgboost.sklearn.XGBClassifier'>   \n",
              "<class 'xgboost.sklearn.XGBClassifier'>    <class 'xgboost.sklearn.XGBClassifier'>   \n",
              "\n",
              "                                           balanced_accuracy  f1_score  \\\n",
              "<class 'lightgbm.sklearn.LGBMClassifier'>              0.519     0.095   \n",
              "<class 'xgboost.sklearn.XGBClassifier'>                0.500     0.000   \n",
              "\n",
              "                                           precision_yes  precision_no  \\\n",
              "<class 'lightgbm.sklearn.LGBMClassifier'>          0.481         0.800   \n",
              "<class 'xgboost.sklearn.XGBClassifier'>            0.000         0.794   \n",
              "\n",
              "                                           recall_yes  recall_no  roc_auc  \n",
              "<class 'lightgbm.sklearn.LGBMClassifier'>       0.053      0.985    0.683  \n",
              "<class 'xgboost.sklearn.XGBClassifier'>         0.000      1.000    0.677  "
            ],
            "text/html": [
              "\n",
              "  <div id=\"df-8e0283da-95a2-4442-a284-256396ab7250\">\n",
              "    <div class=\"colab-df-container\">\n",
              "      <div>\n",
              "<style scoped>\n",
              "    .dataframe tbody tr th:only-of-type {\n",
              "        vertical-align: middle;\n",
              "    }\n",
              "\n",
              "    .dataframe tbody tr th {\n",
              "        vertical-align: top;\n",
              "    }\n",
              "\n",
              "    .dataframe thead th {\n",
              "        text-align: right;\n",
              "    }\n",
              "</style>\n",
              "<table border=\"1\" class=\"dataframe\">\n",
              "  <thead>\n",
              "    <tr style=\"text-align: right;\">\n",
              "      <th></th>\n",
              "      <th>accuracy</th>\n",
              "      <th>balanced_accuracy</th>\n",
              "      <th>f1_score</th>\n",
              "      <th>precision_yes</th>\n",
              "      <th>precision_no</th>\n",
              "      <th>recall_yes</th>\n",
              "      <th>recall_no</th>\n",
              "      <th>roc_auc</th>\n",
              "    </tr>\n",
              "  </thead>\n",
              "  <tbody>\n",
              "    <tr>\n",
              "      <th>&lt;class 'lightgbm.sklearn.LGBMClassifier'&gt;</th>\n",
              "      <td>&lt;class 'xgboost.sklearn.XGBClassifier'&gt;</td>\n",
              "      <td>0.519</td>\n",
              "      <td>0.095</td>\n",
              "      <td>0.481</td>\n",
              "      <td>0.800</td>\n",
              "      <td>0.053</td>\n",
              "      <td>0.985</td>\n",
              "      <td>0.683</td>\n",
              "    </tr>\n",
              "    <tr>\n",
              "      <th>&lt;class 'xgboost.sklearn.XGBClassifier'&gt;</th>\n",
              "      <td>&lt;class 'xgboost.sklearn.XGBClassifier'&gt;</td>\n",
              "      <td>0.500</td>\n",
              "      <td>0.000</td>\n",
              "      <td>0.000</td>\n",
              "      <td>0.794</td>\n",
              "      <td>0.000</td>\n",
              "      <td>1.000</td>\n",
              "      <td>0.677</td>\n",
              "    </tr>\n",
              "  </tbody>\n",
              "</table>\n",
              "</div>\n",
              "      <button class=\"colab-df-convert\" onclick=\"convertToInteractive('df-8e0283da-95a2-4442-a284-256396ab7250')\"\n",
              "              title=\"Convert this dataframe to an interactive table.\"\n",
              "              style=\"display:none;\">\n",
              "        \n",
              "  <svg xmlns=\"http://www.w3.org/2000/svg\" height=\"24px\"viewBox=\"0 0 24 24\"\n",
              "       width=\"24px\">\n",
              "    <path d=\"M0 0h24v24H0V0z\" fill=\"none\"/>\n",
              "    <path d=\"M18.56 5.44l.94 2.06.94-2.06 2.06-.94-2.06-.94-.94-2.06-.94 2.06-2.06.94zm-11 1L8.5 8.5l.94-2.06 2.06-.94-2.06-.94L8.5 2.5l-.94 2.06-2.06.94zm10 10l.94 2.06.94-2.06 2.06-.94-2.06-.94-.94-2.06-.94 2.06-2.06.94z\"/><path d=\"M17.41 7.96l-1.37-1.37c-.4-.4-.92-.59-1.43-.59-.52 0-1.04.2-1.43.59L10.3 9.45l-7.72 7.72c-.78.78-.78 2.05 0 2.83L4 21.41c.39.39.9.59 1.41.59.51 0 1.02-.2 1.41-.59l7.78-7.78 2.81-2.81c.8-.78.8-2.07 0-2.86zM5.41 20L4 18.59l7.72-7.72 1.47 1.35L5.41 20z\"/>\n",
              "  </svg>\n",
              "      </button>\n",
              "      \n",
              "  <style>\n",
              "    .colab-df-container {\n",
              "      display:flex;\n",
              "      flex-wrap:wrap;\n",
              "      gap: 12px;\n",
              "    }\n",
              "\n",
              "    .colab-df-convert {\n",
              "      background-color: #E8F0FE;\n",
              "      border: none;\n",
              "      border-radius: 50%;\n",
              "      cursor: pointer;\n",
              "      display: none;\n",
              "      fill: #1967D2;\n",
              "      height: 32px;\n",
              "      padding: 0 0 0 0;\n",
              "      width: 32px;\n",
              "    }\n",
              "\n",
              "    .colab-df-convert:hover {\n",
              "      background-color: #E2EBFA;\n",
              "      box-shadow: 0px 1px 2px rgba(60, 64, 67, 0.3), 0px 1px 3px 1px rgba(60, 64, 67, 0.15);\n",
              "      fill: #174EA6;\n",
              "    }\n",
              "\n",
              "    [theme=dark] .colab-df-convert {\n",
              "      background-color: #3B4455;\n",
              "      fill: #D2E3FC;\n",
              "    }\n",
              "\n",
              "    [theme=dark] .colab-df-convert:hover {\n",
              "      background-color: #434B5C;\n",
              "      box-shadow: 0px 1px 3px 1px rgba(0, 0, 0, 0.15);\n",
              "      filter: drop-shadow(0px 1px 2px rgba(0, 0, 0, 0.3));\n",
              "      fill: #FFFFFF;\n",
              "    }\n",
              "  </style>\n",
              "\n",
              "      <script>\n",
              "        const buttonEl =\n",
              "          document.querySelector('#df-8e0283da-95a2-4442-a284-256396ab7250 button.colab-df-convert');\n",
              "        buttonEl.style.display =\n",
              "          google.colab.kernel.accessAllowed ? 'block' : 'none';\n",
              "\n",
              "        async function convertToInteractive(key) {\n",
              "          const element = document.querySelector('#df-8e0283da-95a2-4442-a284-256396ab7250');\n",
              "          const dataTable =\n",
              "            await google.colab.kernel.invokeFunction('convertToInteractive',\n",
              "                                                     [key], {});\n",
              "          if (!dataTable) return;\n",
              "\n",
              "          const docLinkHtml = 'Like what you see? Visit the ' +\n",
              "            '<a target=\"_blank\" href=https://colab.research.google.com/notebooks/data_table.ipynb>data table notebook</a>'\n",
              "            + ' to learn more about interactive tables.';\n",
              "          element.innerHTML = '';\n",
              "          dataTable['output_type'] = 'display_data';\n",
              "          await google.colab.output.renderOutput(dataTable, element);\n",
              "          const docLink = document.createElement('div');\n",
              "          docLink.innerHTML = docLinkHtml;\n",
              "          element.appendChild(docLink);\n",
              "        }\n",
              "      </script>\n",
              "    </div>\n",
              "  </div>\n",
              "  "
            ]
          },
          "metadata": {},
          "execution_count": 118
        }
      ]
    },
    {
      "cell_type": "markdown",
      "source": [
        "Unfortunately modeling part was not successful. It could have been beneficial if I could use one-hot labeling, however colab couldn't handle that big dataset.\n",
        "\n",
        "\n",
        "As per initial plan different models could be built to predict each type of delay."
      ],
      "metadata": {
        "id": "ZKbYVSmEXyCx"
      }
    },
    {
      "cell_type": "code",
      "source": [
        "sum(y_test)/y_test.shape[0]"
      ],
      "metadata": {
        "colab": {
          "base_uri": "https://localhost:8080/"
        },
        "id": "BZEEpkS2US-z",
        "outputId": "c83644ba-af29-424b-8fc2-19568c346eae"
      },
      "execution_count": 124,
      "outputs": [
        {
          "output_type": "execute_result",
          "data": {
            "text/plain": [
              "0.20598208933591594"
            ]
          },
          "metadata": {},
          "execution_count": 124
        }
      ]
    },
    {
      "cell_type": "code",
      "source": [],
      "metadata": {
        "id": "xhlCysCBY6e1"
      },
      "execution_count": null,
      "outputs": []
    }
  ]
}